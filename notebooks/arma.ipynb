{
 "cells": [
  {
   "cell_type": "code",
   "execution_count": 1,
   "id": "3aec4da1",
   "metadata": {},
   "outputs": [],
   "source": [
    "import json\n",
    "import numpy as np\n",
    "import pandas as pd\n",
    "import matplotlib.pyplot as plt\n",
    "import statsmodels.api as sm\n",
    "\n",
    "from tqdm.auto import tqdm\n",
    "from statsmodels.tsa.statespace.sarimax import SARIMAX\n",
    "from sklearn.metrics import mean_squared_error"
   ]
  },
  {
   "cell_type": "code",
   "execution_count": 2,
   "id": "4f4c9403",
   "metadata": {},
   "outputs": [],
   "source": [
    "# one-step sarima forecast\n",
    "def sarima_forecast(data, config):\n",
    "    order, sorder, trend = config\n",
    "    # define model\n",
    "    model = SARIMAX(\n",
    "        data,\n",
    "        order=order,\n",
    "        seasonal_order=sorder,\n",
    "        trend=trend,\n",
    "        enforce_stationarity=False,\n",
    "        enforce_invertibility=False\n",
    "    )\n",
    "    # fit model\n",
    "    model_fit = model.fit(disp=False)\n",
    "    return model_fit"
   ]
  },
  {
   "cell_type": "code",
   "execution_count": 3,
   "id": "49c78296",
   "metadata": {},
   "outputs": [],
   "source": [
    "# Avarage temp"
   ]
  },
  {
   "cell_type": "code",
   "execution_count": 13,
   "id": "0c749059",
   "metadata": {},
   "outputs": [],
   "source": [
    "train = pd.read_csv('../monica/monica_weather_2011-2016.csv', \n",
    "                      index_col = ['de-date'], \n",
    "                      parse_dates = ['de-date'], \n",
    "                      dayfirst = True)\n",
    "train = train.asfreq('d')\n",
    "\n",
    "test = pd.read_csv('../monica/reanalysis_2017.csv')"
   ]
  },
  {
   "cell_type": "code",
   "execution_count": 14,
   "id": "e94403b9",
   "metadata": {},
   "outputs": [],
   "source": [
    "import warnings\n",
    "from statsmodels.tools.sm_exceptions import ConvergenceWarning\n",
    "warnings.simplefilter('ignore', ConvergenceWarning)"
   ]
  },
  {
   "cell_type": "code",
   "execution_count": 15,
   "id": "07637851",
   "metadata": {},
   "outputs": [
    {
     "data": {
      "text/html": [
       "<div>\n",
       "<style scoped>\n",
       "    .dataframe tbody tr th:only-of-type {\n",
       "        vertical-align: middle;\n",
       "    }\n",
       "\n",
       "    .dataframe tbody tr th {\n",
       "        vertical-align: top;\n",
       "    }\n",
       "\n",
       "    .dataframe thead th {\n",
       "        text-align: right;\n",
       "    }\n",
       "</style>\n",
       "<table border=\"1\" class=\"dataframe\">\n",
       "  <thead>\n",
       "    <tr style=\"text-align: right;\">\n",
       "      <th></th>\n",
       "      <th>de-date</th>\n",
       "      <th>tavg</th>\n",
       "      <th>tmin</th>\n",
       "      <th>tmax</th>\n",
       "      <th>wind</th>\n",
       "      <th>globrad</th>\n",
       "      <th>precip</th>\n",
       "      <th>relhumid</th>\n",
       "    </tr>\n",
       "  </thead>\n",
       "  <tbody>\n",
       "    <tr>\n",
       "      <th>0</th>\n",
       "      <td>01.01.2017</td>\n",
       "      <td>-3.85</td>\n",
       "      <td>-6.03</td>\n",
       "      <td>-1.72</td>\n",
       "      <td>3.96</td>\n",
       "      <td>2.14</td>\n",
       "      <td>0.90</td>\n",
       "      <td>98.50</td>\n",
       "    </tr>\n",
       "    <tr>\n",
       "      <th>1</th>\n",
       "      <td>02.01.2017</td>\n",
       "      <td>-1.89</td>\n",
       "      <td>-3.75</td>\n",
       "      <td>-0.85</td>\n",
       "      <td>5.43</td>\n",
       "      <td>1.92</td>\n",
       "      <td>0.57</td>\n",
       "      <td>96.75</td>\n",
       "    </tr>\n",
       "    <tr>\n",
       "      <th>2</th>\n",
       "      <td>03.01.2017</td>\n",
       "      <td>-3.72</td>\n",
       "      <td>-9.02</td>\n",
       "      <td>-1.72</td>\n",
       "      <td>5.07</td>\n",
       "      <td>2.04</td>\n",
       "      <td>0.90</td>\n",
       "      <td>95.38</td>\n",
       "    </tr>\n",
       "    <tr>\n",
       "      <th>3</th>\n",
       "      <td>04.01.2017</td>\n",
       "      <td>-6.60</td>\n",
       "      <td>-9.16</td>\n",
       "      <td>-5.06</td>\n",
       "      <td>5.27</td>\n",
       "      <td>3.57</td>\n",
       "      <td>3.88</td>\n",
       "      <td>97.56</td>\n",
       "    </tr>\n",
       "    <tr>\n",
       "      <th>4</th>\n",
       "      <td>05.01.2017</td>\n",
       "      <td>-4.36</td>\n",
       "      <td>-6.16</td>\n",
       "      <td>-2.20</td>\n",
       "      <td>3.25</td>\n",
       "      <td>3.15</td>\n",
       "      <td>1.17</td>\n",
       "      <td>97.38</td>\n",
       "    </tr>\n",
       "  </tbody>\n",
       "</table>\n",
       "</div>"
      ],
      "text/plain": [
       "      de-date  tavg  tmin  tmax  wind  globrad  precip  relhumid\n",
       "0  01.01.2017 -3.85 -6.03 -1.72  3.96     2.14    0.90     98.50\n",
       "1  02.01.2017 -1.89 -3.75 -0.85  5.43     1.92    0.57     96.75\n",
       "2  03.01.2017 -3.72 -9.02 -1.72  5.07     2.04    0.90     95.38\n",
       "3  04.01.2017 -6.60 -9.16 -5.06  5.27     3.57    3.88     97.56\n",
       "4  05.01.2017 -4.36 -6.16 -2.20  3.25     3.15    1.17     97.38"
      ]
     },
     "execution_count": 15,
     "metadata": {},
     "output_type": "execute_result"
    }
   ],
   "source": [
    "test.head()"
   ]
  },
  {
   "cell_type": "code",
   "execution_count": 16,
   "id": "a4fcdd0c",
   "metadata": {},
   "outputs": [],
   "source": [
    "tavg = sarima_forecast(data=train.tavg, config=[(0, 0, 2), (2, 0, 2, 12), 'c'])\n",
    "tmin = sarima_forecast(data=train.tmin, config=[(0, 0, 2), (2, 0, 2, 12), 'c'])\n",
    "tmax = sarima_forecast(data=train.tmax, config=[(0, 0, 2), (2, 0, 2, 12), 'c'])\n",
    "wind = sarima_forecast(data=train.wind, config=[(0, 0, 2), (2, 0, 2, 12), 'c'])\n",
    "globrad = sarima_forecast(data=train.globrad, config=[(0, 0, 2), (2, 0, 2, 12), 'c'])\n",
    "precip = sarima_forecast(data=train.precip, config=[(0, 0, 2), (2, 0, 2, 12), 'c'])\n",
    "relhumid = sarima_forecast(data=train.relhumid, config=[(0, 0, 2), (2, 0, 2, 12), 'c'])"
   ]
  },
  {
   "cell_type": "code",
   "execution_count": 17,
   "id": "cb7ffd8f",
   "metadata": {},
   "outputs": [],
   "source": [
    "tavg_preds = tavg.predict(start=2*365, end=3*365-1)\n",
    "tmin_preds = tmin.predict(start=2*365, end=3*365-1)\n",
    "tmax_preds = tmax.predict(start=2*365, end=3*365-1)\n",
    "wind_preds = wind.predict(start=2*365, end=3*365-1)\n",
    "globrad_preds = globrad.predict(start=2*365, end=3*365-1)\n",
    "precip_preds = precip.predict(start=2*365, end=3*365-1)\n",
    "relhumid_preds = relhumid.predict(start=2*365, end=3*365-1)"
   ]
  },
  {
   "cell_type": "code",
   "execution_count": 18,
   "id": "e41c4132",
   "metadata": {},
   "outputs": [
    {
     "data": {
      "text/plain": [
       "365"
      ]
     },
     "execution_count": 18,
     "metadata": {},
     "output_type": "execute_result"
    }
   ],
   "source": [
    "len(tavg_preds)"
   ]
  },
  {
   "cell_type": "code",
   "execution_count": 19,
   "id": "9e20f1c5",
   "metadata": {},
   "outputs": [],
   "source": [
    "test.tavg = tavg_preds.to_numpy()\n",
    "test.tmin = tmin_preds.to_numpy()\n",
    "test.tmax = tmax_preds.to_numpy()\n",
    "test.wind = wind_preds.to_numpy()\n",
    "test.globrad = globrad_preds.to_numpy()\n",
    "test.precip = precip_preds.to_numpy()\n",
    "test.relhumid = relhumid_preds.to_numpy()"
   ]
  },
  {
   "cell_type": "code",
   "execution_count": 20,
   "id": "c506c428",
   "metadata": {},
   "outputs": [],
   "source": [
    "test.to_csv('../monica/sarimax_2017.csv', index=False)"
   ]
  },
  {
   "cell_type": "code",
   "execution_count": null,
   "id": "9a2b4ad5",
   "metadata": {},
   "outputs": [],
   "source": []
  }
 ],
 "metadata": {
  "kernelspec": {
   "display_name": "Python 3 (ipykernel)",
   "language": "python",
   "name": "python3"
  },
  "language_info": {
   "codemirror_mode": {
    "name": "ipython",
    "version": 3
   },
   "file_extension": ".py",
   "mimetype": "text/x-python",
   "name": "python",
   "nbconvert_exporter": "python",
   "pygments_lexer": "ipython3",
   "version": "3.7.3"
  }
 },
 "nbformat": 4,
 "nbformat_minor": 5
}
