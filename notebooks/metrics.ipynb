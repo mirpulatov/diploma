{
 "cells": [
  {
   "cell_type": "code",
   "execution_count": 1,
   "id": "7feccda9",
   "metadata": {
    "scrolled": false
   },
   "outputs": [
    {
     "name": "stdout",
     "output_type": "stream",
     "text": [
      "Collecting SciencePlots\n",
      "  Downloading SciencePlots-2.0.1-py3-none-any.whl (15 kB)\n",
      "Requirement already satisfied: matplotlib in /usr/local/lib/python3.7/dist-packages (from SciencePlots) (3.5.3)\n",
      "Requirement already satisfied: packaging>=20.0 in /usr/local/lib/python3.7/dist-packages (from matplotlib->SciencePlots) (23.0)\n",
      "Requirement already satisfied: cycler>=0.10 in /usr/local/lib/python3.7/dist-packages (from matplotlib->SciencePlots) (0.11.0)\n",
      "Requirement already satisfied: numpy>=1.17 in /usr/local/lib/python3.7/dist-packages (from matplotlib->SciencePlots) (1.21.6)\n",
      "Requirement already satisfied: pillow>=6.2.0 in /usr/local/lib/python3.7/dist-packages (from matplotlib->SciencePlots) (9.4.0)\n",
      "Requirement already satisfied: kiwisolver>=1.0.1 in /usr/local/lib/python3.7/dist-packages (from matplotlib->SciencePlots) (1.4.4)\n",
      "Requirement already satisfied: fonttools>=4.22.0 in /usr/local/lib/python3.7/dist-packages (from matplotlib->SciencePlots) (4.38.0)\n",
      "Requirement already satisfied: python-dateutil>=2.7 in /usr/local/lib/python3.7/dist-packages (from matplotlib->SciencePlots) (2.8.2)\n",
      "Requirement already satisfied: pyparsing>=2.2.1 in /usr/local/lib/python3.7/dist-packages (from matplotlib->SciencePlots) (3.0.9)\n",
      "Requirement already satisfied: typing-extensions in /usr/local/lib/python3.7/dist-packages (from kiwisolver>=1.0.1->matplotlib->SciencePlots) (4.5.0)\n",
      "Requirement already satisfied: six>=1.5 in /usr/lib/python3/dist-packages (from python-dateutil>=2.7->matplotlib->SciencePlots) (1.12.0)\n",
      "Installing collected packages: SciencePlots\n",
      "Successfully installed SciencePlots-2.0.1\n",
      "\u001b[33mWARNING: Running pip as the 'root' user can result in broken permissions and conflicting behaviour with the system package manager. It is recommended to use a virtual environment instead: https://pip.pypa.io/warnings/venv\u001b[0m\u001b[33m\n",
      "\u001b[0m"
     ]
    }
   ],
   "source": [
    "!pip install SciencePlots"
   ]
  },
  {
   "cell_type": "code",
   "execution_count": 1,
   "id": "8c831ef1",
   "metadata": {},
   "outputs": [],
   "source": [
    "import os, sys\n",
    "import json\n",
    "import pandas as pd\n",
    "import numpy as np \n",
    "import datetime as dt\n",
    "import subprocess\n",
    "import shutil\n",
    "\n",
    "import seaborn as sns\n",
    "import matplotlib.pyplot as plt\n",
    "# import scienceplots"
   ]
  },
  {
   "cell_type": "code",
   "execution_count": 2,
   "id": "f860d4df",
   "metadata": {},
   "outputs": [],
   "source": [
    "%matplotlib inline\n",
    "plt.rcParams[\"figure.figsize\"] = (12, 10)"
   ]
  },
  {
   "cell_type": "code",
   "execution_count": 3,
   "id": "4a48634f",
   "metadata": {},
   "outputs": [],
   "source": [
    "from sklearn.metrics import mean_squared_error, r2_score\n",
    "\n",
    "def relative_rmse(target, preds):\n",
    "    rmse = mean_squared_error(target, preds, squared=False)\n",
    "    avg = np.full(len(preds), preds.mean())\n",
    "    const_rmse = mean_squared_error(target, avg, squared=False)\n",
    "    return round(rmse / const_rmse, 2)"
   ]
  },
  {
   "cell_type": "markdown",
   "id": "c6fe3972",
   "metadata": {},
   "source": [
    "# WOFOST"
   ]
  },
  {
   "cell_type": "code",
   "execution_count": 4,
   "id": "6fee1d82",
   "metadata": {},
   "outputs": [],
   "source": [
    "reanalysis_2016 = pd.read_csv('../wofost/reanalysis_2016.csv')\n",
    "reanalysis_2017 = pd.read_csv('../wofost/reanalysis_2017.csv')"
   ]
  },
  {
   "cell_type": "code",
   "execution_count": 5,
   "id": "8b7457b1",
   "metadata": {},
   "outputs": [],
   "source": [
    "means_2016 = pd.read_csv('../wofost/means_2016.csv')\n",
    "means_2017 = pd.read_csv('../wofost/means_2017.csv')"
   ]
  },
  {
   "cell_type": "code",
   "execution_count": 6,
   "id": "c49d7737",
   "metadata": {},
   "outputs": [],
   "source": [
    "sarimax_2016 = pd.read_csv('../wofost/sarimax_2016.csv')\n",
    "sarimax_2017 = pd.read_csv('../wofost/sarimax_2017.csv')"
   ]
  },
  {
   "cell_type": "code",
   "execution_count": 7,
   "id": "cd97fb6f",
   "metadata": {},
   "outputs": [],
   "source": [
    "prophet_2016 = pd.read_csv('../wofost/prophet_2016.csv')\n",
    "prophet_2017 = pd.read_csv('../wofost/prophet_2017.csv')"
   ]
  },
  {
   "cell_type": "code",
   "execution_count": 8,
   "id": "43f4f599",
   "metadata": {},
   "outputs": [],
   "source": [
    "neural_prophet_2016 = pd.read_csv('../wofost/neural_prophet_2016.csv')\n",
    "neural_prophet_2017 = pd.read_csv('../wofost/neural_prophet_2017.csv')"
   ]
  },
  {
   "cell_type": "code",
   "execution_count": 10,
   "id": "b9873046",
   "metadata": {},
   "outputs": [],
   "source": [
    "multi_prophet_2016 = pd.read_csv('../wofost/multi_prophet_2016.csv')\n",
    "multi_prophet_2017 = pd.read_csv('../wofost/multi_prophet_2017.csv')"
   ]
  },
  {
   "cell_type": "markdown",
   "id": "fda799a8",
   "metadata": {},
   "source": [
    "# 2016"
   ]
  },
  {
   "cell_type": "code",
   "execution_count": 14,
   "id": "0cc90b64",
   "metadata": {
    "scrolled": true
   },
   "outputs": [
    {
     "name": "stdout",
     "output_type": "stream",
     "text": [
      "Mean\t\t 0.7015985946659717\n",
      "Sarimax\t\t 0.5634819089375978\n",
      "Prophet\t\t 0.7119826597718413\n",
      "Neural Prophet\t 0.730584506216351\n",
      "Multi Prophet\t 0.7119826597718413\n"
     ]
    }
   ],
   "source": [
    "print(\"Mean\\t\\t\", r2_score(reanalysis_2016.IRRAD, means_2016.IRRAD))\n",
    "print(\"Sarimax\\t\\t\", r2_score(reanalysis_2016.IRRAD, sarimax_2016.IRRAD))\n",
    "print(\"Prophet\\t\\t\", r2_score(reanalysis_2016.IRRAD, prophet_2016.IRRAD))\n",
    "print(\"Neural Prophet\\t\", r2_score(reanalysis_2016.IRRAD, neural_prophet_2016.IRRD))\n",
    "print(\"Multi Prophet\\t\", r2_score(reanalysis_2016.IRRAD, multi_prophet_2016.IRRAD))"
   ]
  },
  {
   "cell_type": "code",
   "execution_count": 15,
   "id": "be0360fb",
   "metadata": {},
   "outputs": [
    {
     "name": "stdout",
     "output_type": "stream",
     "text": [
      "Mean\t\t 0.7641071373455173\n",
      "Sarimax\t\t 0.6870428915878108\n",
      "Prophet\t\t 0.776664115836486\n",
      "Neural Prophet\t 0.7827490258355099\n",
      "Multi Prophet\t 0.776664115836486\n"
     ]
    }
   ],
   "source": [
    "print(\"Mean\\t\\t\", r2_score(reanalysis_2016.TMIN, means_2016.TMIN))\n",
    "print(\"Sarimax\\t\\t\", r2_score(reanalysis_2016.TMIN, sarimax_2016.TMIN))\n",
    "print(\"Prophet\\t\\t\", r2_score(reanalysis_2016.TMIN, prophet_2016.TMIN))\n",
    "print(\"Neural Prophet\\t\", r2_score(reanalysis_2016.TMIN, neural_prophet_2016.TMIN))\n",
    "print(\"Multi Prophet\\t\", r2_score(reanalysis_2016.TMIN, multi_prophet_2016.TMIN))"
   ]
  },
  {
   "cell_type": "code",
   "execution_count": 16,
   "id": "c92fba24",
   "metadata": {},
   "outputs": [
    {
     "name": "stdout",
     "output_type": "stream",
     "text": [
      "Mean\t\t 0.8212832767943498\n",
      "Sarimax\t\t 0.7441289776648339\n",
      "Prophet\t\t 0.8146996417301106\n",
      "Neural Prophet\t 0.8372913068892538\n",
      "Multi Prophet\t 0.8146996417301106\n"
     ]
    }
   ],
   "source": [
    "print(\"Mean\\t\\t\", r2_score(reanalysis_2016.TMAX, means_2016.TMAX))\n",
    "print(\"Sarimax\\t\\t\", r2_score(reanalysis_2016.TMAX, sarimax_2016.TMAX))\n",
    "print(\"Prophet\\t\\t\", r2_score(reanalysis_2016.TMAX, prophet_2016.TMAX))\n",
    "print(\"Neural Prophet\\t\", r2_score(reanalysis_2016.TMAX, neural_prophet_2016.TMAX))\n",
    "print(\"Multi Prophet\\t\", r2_score(reanalysis_2016.TMAX, multi_prophet_2016.TMAX))"
   ]
  },
  {
   "cell_type": "code",
   "execution_count": 17,
   "id": "599bb18a",
   "metadata": {
    "scrolled": true
   },
   "outputs": [
    {
     "name": "stdout",
     "output_type": "stream",
     "text": [
      "Mean\t\t 0.09849844369240701\n",
      "Sarimax\t\t -0.12708838577486636\n",
      "Prophet\t\t 0.22512120086878173\n",
      "Neural Prophet\t 0.2132936126716476\n",
      "Multi Prophet\t 0.22512120086878173\n"
     ]
    }
   ],
   "source": [
    "print(\"Mean\\t\\t\", r2_score(reanalysis_2016.WIND, means_2016.WIND))\n",
    "print(\"Sarimax\\t\\t\", r2_score(reanalysis_2016.WIND, sarimax_2016.WIND))\n",
    "print(\"Prophet\\t\\t\", r2_score(reanalysis_2016.WIND, prophet_2016.WIND))\n",
    "print(\"Neural Prophet\\t\", r2_score(reanalysis_2016.WIND, neural_prophet_2016.WIND))\n",
    "print(\"Multi Prophet\\t\", r2_score(reanalysis_2016.WIND, multi_prophet_2016.WIND))"
   ]
  },
  {
   "cell_type": "code",
   "execution_count": 18,
   "id": "0072463d",
   "metadata": {},
   "outputs": [
    {
     "name": "stdout",
     "output_type": "stream",
     "text": [
      "Mean\t\t 0.7330727402248287\n",
      "Sarimax\t\t 0.6943238563674963\n",
      "Prophet\t\t 0.7279472060504172\n",
      "Neural Prophet\t 0.7491262477602012\n",
      "Multi Prophet\t 0.7279472060504172\n"
     ]
    }
   ],
   "source": [
    "print(\"Mean\\t\\t\", r2_score(reanalysis_2016.VAP, means_2016.VAP))\n",
    "print(\"Sarimax\\t\\t\", r2_score(reanalysis_2016.VAP, sarimax_2016.VAP))\n",
    "print(\"Prophet\\t\\t\", r2_score(reanalysis_2016.VAP, prophet_2016.VAP))\n",
    "print(\"Neural Prophet\\t\", r2_score(reanalysis_2016.VAP, neural_prophet_2016.VAP))\n",
    "print(\"Multi Prophet\\t\", r2_score(reanalysis_2016.VAP, multi_prophet_2016.VAP))"
   ]
  },
  {
   "cell_type": "code",
   "execution_count": 19,
   "id": "5044d21a",
   "metadata": {},
   "outputs": [
    {
     "name": "stdout",
     "output_type": "stream",
     "text": [
      "Mean\t\t -0.13657990538872733\n",
      "Sarimax\t\t -0.01406627547522632\n",
      "Prophet\t\t -0.08213097354913623\n",
      "Neural Prophet\t -0.03185779258290422\n",
      "Multi Prophet\t -0.08213097354913623\n"
     ]
    }
   ],
   "source": [
    "print(\"Mean\\t\\t\", r2_score(reanalysis_2016.RAIN, means_2016.RAIN))\n",
    "print(\"Sarimax\\t\\t\", r2_score(reanalysis_2016.RAIN, sarimax_2016.RAIN))\n",
    "print(\"Prophet\\t\\t\", r2_score(reanalysis_2016.RAIN, prophet_2016.RAIN))\n",
    "print(\"Neural Prophet\\t\", r2_score(reanalysis_2016.RAIN, neural_prophet_2016.RAIN))\n",
    "print(\"Multi Prophet\\t\", r2_score(reanalysis_2016.RAIN, multi_prophet_2016.RAIN))"
   ]
  },
  {
   "cell_type": "markdown",
   "id": "03d58ecf",
   "metadata": {},
   "source": [
    "# 2017"
   ]
  },
  {
   "cell_type": "code",
   "execution_count": 20,
   "id": "93b4c8aa",
   "metadata": {
    "scrolled": true
   },
   "outputs": [
    {
     "name": "stdout",
     "output_type": "stream",
     "text": [
      "Mean\t\t 0.7540202755907629\n",
      "Sarimax\t\t 0.6283136150868907\n",
      "Prophet\t\t 0.7883128019659036\n",
      "Neural Prophet\t 0.7658208160859031\n",
      "Multi Prophet\t 0.7883128019659036\n"
     ]
    }
   ],
   "source": [
    "print(\"Mean\\t\\t\", r2_score(reanalysis_2017.IRRAD, means_2017.IRRAD))\n",
    "print(\"Sarimax\\t\\t\", r2_score(reanalysis_2017.IRRAD, sarimax_2017.IRRAD))\n",
    "print(\"Prophet\\t\\t\", r2_score(reanalysis_2017.IRRAD, prophet_2017.IRRAD))\n",
    "print(\"Neural Prophet\\t\", r2_score(reanalysis_2017.IRRAD, neural_prophet_2017.IRRD))\n",
    "print(\"Multi Prophet\\t\", r2_score(reanalysis_2017.IRRAD, multi_prophet_2017.IRRAD))"
   ]
  },
  {
   "cell_type": "code",
   "execution_count": 21,
   "id": "749c256e",
   "metadata": {},
   "outputs": [
    {
     "name": "stdout",
     "output_type": "stream",
     "text": [
      "Mean\t\t 0.7843558127551272\n",
      "Sarimax\t\t 0.688573505526734\n",
      "Prophet\t\t 0.7713084970913452\n",
      "Neural Prophet\t 0.771834589025344\n",
      "Multi Prophet\t 0.7713084970913452\n"
     ]
    }
   ],
   "source": [
    "print(\"Mean\\t\\t\", r2_score(reanalysis_2017.TMIN, means_2017.TMIN))\n",
    "print(\"Sarimax\\t\\t\", r2_score(reanalysis_2017.TMIN, sarimax_2017.TMIN))\n",
    "print(\"Prophet\\t\\t\", r2_score(reanalysis_2017.TMIN, prophet_2017.TMIN))\n",
    "print(\"Neural Prophet\\t\", r2_score(reanalysis_2017.TMIN, neural_prophet_2017.TMIN))\n",
    "print(\"Multi Prophet\\t\", r2_score(reanalysis_2017.TMIN, multi_prophet_2017.TMIN))"
   ]
  },
  {
   "cell_type": "code",
   "execution_count": 22,
   "id": "0e28d69e",
   "metadata": {},
   "outputs": [
    {
     "name": "stdout",
     "output_type": "stream",
     "text": [
      "Mean\t\t 0.8589470753053456\n",
      "Sarimax\t\t 0.7795340885272525\n",
      "Prophet\t\t 0.8094603393293356\n",
      "Neural Prophet\t 0.809565063869692\n",
      "Multi Prophet\t 0.8094603393293356\n"
     ]
    }
   ],
   "source": [
    "print(\"Mean\\t\\t\", r2_score(reanalysis_2017.TMAX, means_2017.TMAX))\n",
    "print(\"Sarimax\\t\\t\", r2_score(reanalysis_2017.TMAX, sarimax_2017.TMAX))\n",
    "print(\"Prophet\\t\\t\", r2_score(reanalysis_2017.TMAX, prophet_2017.TMAX))\n",
    "print(\"Neural Prophet\\t\", r2_score(reanalysis_2017.TMAX, neural_prophet_2017.TMAX))\n",
    "print(\"Multi Prophet\\t\", r2_score(reanalysis_2017.TMAX, multi_prophet_2017.TMAX))"
   ]
  },
  {
   "cell_type": "code",
   "execution_count": 23,
   "id": "37c5c222",
   "metadata": {
    "scrolled": true
   },
   "outputs": [
    {
     "name": "stdout",
     "output_type": "stream",
     "text": [
      "Mean\t\t -0.12926838637213223\n",
      "Sarimax\t\t -0.22815356506557993\n",
      "Prophet\t\t 0.03944141044398308\n",
      "Neural Prophet\t 0.0031860829463494778\n",
      "Multi Prophet\t 0.03944141044398308\n"
     ]
    }
   ],
   "source": [
    "print(\"Mean\\t\\t\", r2_score(reanalysis_2017.WIND, means_2017.WIND))\n",
    "print(\"Sarimax\\t\\t\", r2_score(reanalysis_2017.WIND, sarimax_2017.WIND))\n",
    "print(\"Prophet\\t\\t\", r2_score(reanalysis_2017.WIND, prophet_2017.WIND))\n",
    "print(\"Neural Prophet\\t\", r2_score(reanalysis_2017.WIND, neural_prophet_2017.WIND))\n",
    "print(\"Multi Prophet\\t\", r2_score(reanalysis_2017.WIND, multi_prophet_2017.WIND))"
   ]
  },
  {
   "cell_type": "code",
   "execution_count": 24,
   "id": "4c5ec030",
   "metadata": {},
   "outputs": [
    {
     "name": "stdout",
     "output_type": "stream",
     "text": [
      "Mean\t\t 0.7583894848469134\n",
      "Sarimax\t\t 0.699994382161579\n",
      "Prophet\t\t 0.636826786133329\n",
      "Neural Prophet\t 0.5102910772573206\n",
      "Multi Prophet\t 0.636826786133329\n"
     ]
    }
   ],
   "source": [
    "print(\"Mean\\t\\t\", r2_score(reanalysis_2017.VAP, means_2017.VAP))\n",
    "print(\"Sarimax\\t\\t\", r2_score(reanalysis_2017.VAP, sarimax_2017.VAP))\n",
    "print(\"Prophet\\t\\t\", r2_score(reanalysis_2017.VAP, prophet_2017.VAP))\n",
    "print(\"Neural Prophet\\t\", r2_score(reanalysis_2017.VAP, neural_prophet_2017.VAP))\n",
    "print(\"Multi Prophet\\t\", r2_score(reanalysis_2017.VAP, multi_prophet_2017.VAP))"
   ]
  },
  {
   "cell_type": "code",
   "execution_count": 25,
   "id": "9603682e",
   "metadata": {},
   "outputs": [
    {
     "name": "stdout",
     "output_type": "stream",
     "text": [
      "Mean\t\t -0.13811395151474848\n",
      "Sarimax\t\t -0.12002564684759953\n",
      "Prophet\t\t -0.10765689845673831\n",
      "Neural Prophet\t -0.05265161007399155\n",
      "Multi Prophet\t -0.10765689845673831\n"
     ]
    }
   ],
   "source": [
    "print(\"Mean\\t\\t\", r2_score(reanalysis_2017.RAIN, means_2017.RAIN))\n",
    "print(\"Sarimax\\t\\t\", r2_score(reanalysis_2017.RAIN, sarimax_2017.RAIN))\n",
    "print(\"Prophet\\t\\t\", r2_score(reanalysis_2017.RAIN, prophet_2017.RAIN))\n",
    "print(\"Neural Prophet\\t\", r2_score(reanalysis_2017.RAIN, neural_prophet_2017.RAIN))\n",
    "print(\"Multi Prophet\\t\", r2_score(reanalysis_2017.RAIN, multi_prophet_2017.RAIN))"
   ]
  },
  {
   "cell_type": "markdown",
   "id": "bf3987b7",
   "metadata": {},
   "source": [
    "# Read Data"
   ]
  },
  {
   "cell_type": "code",
   "execution_count": 5,
   "id": "c9b87540",
   "metadata": {},
   "outputs": [],
   "source": [
    "reanalysis_2016 = pd.read_csv('../monica/reanalysis_2016.csv')\n",
    "reanalysis_2016['de-date'] = pd.to_datetime(reanalysis_2016['de-date'], format='%d.%m.%Y')\n",
    "\n",
    "reanalysis_2017 = pd.read_csv('../monica/reanalysis_2017.csv')\n",
    "reanalysis_2017['de-date'] = pd.to_datetime(reanalysis_2017['de-date'], format='%d.%m.%Y')"
   ]
  },
  {
   "cell_type": "code",
   "execution_count": 6,
   "id": "12409e52",
   "metadata": {},
   "outputs": [],
   "source": [
    "means_2016 = pd.read_csv('../monica/means_2016.csv')\n",
    "means_2016['de-date'] = pd.to_datetime(means_2016['de-date'], format='%d.%m.%Y')\n",
    "\n",
    "means_2017 = pd.read_csv('../monica/means_2017.csv')\n",
    "means_2017['de-date'] = pd.to_datetime(means_2017['de-date'], format='%d.%m.%Y')"
   ]
  },
  {
   "cell_type": "code",
   "execution_count": 7,
   "id": "657db748",
   "metadata": {},
   "outputs": [],
   "source": [
    "sarimax_2016 = pd.read_csv('../monica/sarimax_2016.csv')\n",
    "sarimax_2016['de-date'] = pd.to_datetime(sarimax_2016['de-date'], format='%d.%m.%Y')\n",
    "\n",
    "sarimax_2017 = pd.read_csv('../monica/sarimax_2017.csv')\n",
    "sarimax_2017['de-date'] = pd.to_datetime(sarimax_2017['de-date'], format='%d.%m.%Y')"
   ]
  },
  {
   "cell_type": "code",
   "execution_count": 8,
   "id": "60b683e1",
   "metadata": {},
   "outputs": [],
   "source": [
    "prophet_2016 = pd.read_csv('../monica/prophet_2016.csv')\n",
    "prophet_2016['de-date'] = pd.to_datetime(prophet_2016['de-date'], format='%d.%m.%Y')\n",
    "\n",
    "prophet_2017 = pd.read_csv('../monica/prophet_2017.csv')\n",
    "prophet_2017['de-date'] = pd.to_datetime(prophet_2017['de-date'], format='%d.%m.%Y')"
   ]
  },
  {
   "cell_type": "code",
   "execution_count": 9,
   "id": "1f7bed92",
   "metadata": {},
   "outputs": [],
   "source": [
    "neural_prophet_2016 = pd.read_csv('../monica/neural_prophet_2016.csv')\n",
    "neural_prophet_2016['de-date'] = pd.to_datetime(neural_prophet_2016['de-date'], format='%d.%m.%Y')\n",
    "\n",
    "neural_prophet_2017 = pd.read_csv('../monica/neural_prophet_2017.csv')\n",
    "neural_prophet_2017['de-date'] = pd.to_datetime(neural_prophet_2017['de-date'], format='%d.%m.%Y')"
   ]
  },
  {
   "cell_type": "code",
   "execution_count": 10,
   "id": "f13af64f",
   "metadata": {},
   "outputs": [],
   "source": [
    "multi_prophet_2016 = pd.read_csv('../monica/multi-prophet_2016.csv')\n",
    "multi_prophet_2016['de-date'] = pd.to_datetime(multi_prophet_2016['de-date'], format='%d.%m.%Y')\n",
    "\n",
    "multi_prophet_2017 = pd.read_csv('../monica/multi-prophet_2017.csv')\n",
    "multi_prophet_2017['de-date'] = pd.to_datetime(multi_prophet_2017['de-date'], format='%d.%m.%Y')"
   ]
  },
  {
   "cell_type": "markdown",
   "id": "2b5c9e59",
   "metadata": {},
   "source": [
    "# RRMSE"
   ]
  },
  {
   "cell_type": "markdown",
   "id": "207037a3",
   "metadata": {},
   "source": [
    "### TAVG"
   ]
  },
  {
   "cell_type": "code",
   "execution_count": 11,
   "id": "b72a37c6",
   "metadata": {
    "scrolled": false
   },
   "outputs": [
    {
     "name": "stdout",
     "output_type": "stream",
     "text": [
      "Mean\t\t 0.42\n",
      "Sarimax\t\t 0.535\n",
      "Prophet\t\t 0.425\n",
      "Neural Prophet\t 0.415\n",
      "Multi Prophet\t 0.425\n"
     ]
    }
   ],
   "source": [
    "print(\"Mean\\t\\t\", (relative_rmse(reanalysis_2016.tavg, means_2016.tavg) + relative_rmse(reanalysis_2017.tavg, means_2017.tavg)) / 2)\n",
    "print(\"Sarimax\\t\\t\", (relative_rmse(reanalysis_2016.tavg, sarimax_2016.tavg) + relative_rmse(reanalysis_2017.tavg, sarimax_2017.tavg)) / 2)\n",
    "print(\"Prophet\\t\\t\", (relative_rmse(reanalysis_2016.tavg, prophet_2016.tavg) + relative_rmse(reanalysis_2017.tavg, prophet_2017.tavg)) / 2)\n",
    "print(\"Neural Prophet\\t\", (relative_rmse(reanalysis_2016.tavg, neural_prophet_2016.tavg) + relative_rmse(reanalysis_2017.tavg, neural_prophet_2017.tavg)) / 2)\n",
    "print(\"Multi Prophet\\t\", (relative_rmse(reanalysis_2016.tavg, multi_prophet_2016.tavg)+ relative_rmse(reanalysis_2017.tavg, multi_prophet_2017.tavg)) / 2)"
   ]
  },
  {
   "cell_type": "markdown",
   "id": "68c9fb32",
   "metadata": {},
   "source": [
    "### TMIN"
   ]
  },
  {
   "cell_type": "code",
   "execution_count": 12,
   "id": "6b3a0538",
   "metadata": {
    "scrolled": true
   },
   "outputs": [
    {
     "data": {
      "text/html": [
       "<div>\n",
       "<style scoped>\n",
       "    .dataframe tbody tr th:only-of-type {\n",
       "        vertical-align: middle;\n",
       "    }\n",
       "\n",
       "    .dataframe tbody tr th {\n",
       "        vertical-align: top;\n",
       "    }\n",
       "\n",
       "    .dataframe thead th {\n",
       "        text-align: right;\n",
       "    }\n",
       "</style>\n",
       "<table border=\"1\" class=\"dataframe\">\n",
       "  <thead>\n",
       "    <tr style=\"text-align: right;\">\n",
       "      <th></th>\n",
       "      <th>de-date</th>\n",
       "      <th>tavg</th>\n",
       "      <th>tmin</th>\n",
       "      <th>tmax</th>\n",
       "      <th>wind</th>\n",
       "      <th>globrad</th>\n",
       "      <th>precip</th>\n",
       "      <th>relhumid</th>\n",
       "    </tr>\n",
       "  </thead>\n",
       "  <tbody>\n",
       "    <tr>\n",
       "      <th>0</th>\n",
       "      <td>2016-01-01</td>\n",
       "      <td>-12.35</td>\n",
       "      <td>-12.89</td>\n",
       "      <td>-11.24</td>\n",
       "      <td>4.75</td>\n",
       "      <td>3.36</td>\n",
       "      <td>1.00</td>\n",
       "      <td>77.69</td>\n",
       "    </tr>\n",
       "    <tr>\n",
       "      <th>1</th>\n",
       "      <td>2016-01-02</td>\n",
       "      <td>-14.06</td>\n",
       "      <td>-15.98</td>\n",
       "      <td>-13.05</td>\n",
       "      <td>3.30</td>\n",
       "      <td>3.28</td>\n",
       "      <td>0.85</td>\n",
       "      <td>82.06</td>\n",
       "    </tr>\n",
       "    <tr>\n",
       "      <th>2</th>\n",
       "      <td>2016-01-03</td>\n",
       "      <td>-15.60</td>\n",
       "      <td>-17.52</td>\n",
       "      <td>-14.22</td>\n",
       "      <td>3.75</td>\n",
       "      <td>3.50</td>\n",
       "      <td>0.29</td>\n",
       "      <td>83.69</td>\n",
       "    </tr>\n",
       "    <tr>\n",
       "      <th>3</th>\n",
       "      <td>2016-01-04</td>\n",
       "      <td>-14.80</td>\n",
       "      <td>-15.14</td>\n",
       "      <td>-14.48</td>\n",
       "      <td>4.75</td>\n",
       "      <td>3.42</td>\n",
       "      <td>1.63</td>\n",
       "      <td>85.19</td>\n",
       "    </tr>\n",
       "    <tr>\n",
       "      <th>4</th>\n",
       "      <td>2016-01-05</td>\n",
       "      <td>-14.24</td>\n",
       "      <td>-15.60</td>\n",
       "      <td>-12.29</td>\n",
       "      <td>3.30</td>\n",
       "      <td>3.16</td>\n",
       "      <td>0.28</td>\n",
       "      <td>89.50</td>\n",
       "    </tr>\n",
       "  </tbody>\n",
       "</table>\n",
       "</div>"
      ],
      "text/plain": [
       "     de-date   tavg   tmin   tmax  wind  globrad  precip  relhumid\n",
       "0 2016-01-01 -12.35 -12.89 -11.24  4.75     3.36    1.00     77.69\n",
       "1 2016-01-02 -14.06 -15.98 -13.05  3.30     3.28    0.85     82.06\n",
       "2 2016-01-03 -15.60 -17.52 -14.22  3.75     3.50    0.29     83.69\n",
       "3 2016-01-04 -14.80 -15.14 -14.48  4.75     3.42    1.63     85.19\n",
       "4 2016-01-05 -14.24 -15.60 -12.29  3.30     3.16    0.28     89.50"
      ]
     },
     "execution_count": 12,
     "metadata": {},
     "output_type": "execute_result"
    }
   ],
   "source": [
    "reanalysis_2016.head()"
   ]
  },
  {
   "cell_type": "code",
   "execution_count": 13,
   "id": "856748dc",
   "metadata": {
    "scrolled": true
   },
   "outputs": [
    {
     "name": "stdout",
     "output_type": "stream",
     "text": [
      "Mean\t\t 0.485\n",
      "Sarimax\t\t 0.555\n",
      "Prophet\t\t 0.485\n",
      "Neural Prophet\t 0.475\n",
      "Multi Prophet\t 0.485\n"
     ]
    }
   ],
   "source": [
    "print(\"Mean\\t\\t\", (relative_rmse(reanalysis_2016.tmin, means_2016.tmin) + relative_rmse(reanalysis_2017.tmin, means_2017.tmin)) / 2)\n",
    "print(\"Sarimax\\t\\t\", (relative_rmse(reanalysis_2016.tmin, sarimax_2016.tmin) + relative_rmse(reanalysis_2017.tmin, sarimax_2017.tmin)) / 2)\n",
    "print(\"Prophet\\t\\t\", (relative_rmse(reanalysis_2016.tmin, prophet_2016.tmin) + relative_rmse(reanalysis_2017.tmin, prophet_2017.tmin)) / 2)\n",
    "print(\"Neural Prophet\\t\", (relative_rmse(reanalysis_2016.tmin, neural_prophet_2016.tmin) + relative_rmse(reanalysis_2017.tmin, neural_prophet_2017.tmin)) / 2)\n",
    "print(\"Multi Prophet\\t\", (relative_rmse(reanalysis_2016.tmin, multi_prophet_2016.tmin)+ relative_rmse(reanalysis_2017.tmin, multi_prophet_2017.tmin)) / 2)"
   ]
  },
  {
   "cell_type": "markdown",
   "id": "3ba4125e",
   "metadata": {},
   "source": [
    "### TMAX"
   ]
  },
  {
   "cell_type": "code",
   "execution_count": 14,
   "id": "10018909",
   "metadata": {
    "scrolled": true
   },
   "outputs": [
    {
     "name": "stdout",
     "output_type": "stream",
     "text": [
      "Mean\t\t 0.4\n",
      "Sarimax\t\t 0.48\n",
      "Prophet\t\t 0.43\n",
      "Neural Prophet\t 0.41500000000000004\n",
      "Multi Prophet\t 0.43\n"
     ]
    }
   ],
   "source": [
    "print(\"Mean\\t\\t\", (relative_rmse(reanalysis_2016.tmax, means_2016.tmax) + relative_rmse(reanalysis_2017.tmax, means_2017.tmax)) / 2)\n",
    "print(\"Sarimax\\t\\t\", (relative_rmse(reanalysis_2016.tmax, sarimax_2016.tmax) + relative_rmse(reanalysis_2017.tmax, sarimax_2017.tmax)) / 2)\n",
    "print(\"Prophet\\t\\t\", (relative_rmse(reanalysis_2016.tmax, prophet_2016.tmax) + relative_rmse(reanalysis_2017.tmax, prophet_2017.tmax)) / 2)\n",
    "print(\"Neural Prophet\\t\", (relative_rmse(reanalysis_2016.tmax, neural_prophet_2016.tmax) + relative_rmse(reanalysis_2017.tmax, neural_prophet_2017.tmax)) / 2)\n",
    "print(\"Multi Prophet\\t\", (relative_rmse(reanalysis_2016.tmax, multi_prophet_2016.tmax)+ relative_rmse(reanalysis_2017.tmax, multi_prophet_2017.tmax)) / 2)"
   ]
  },
  {
   "cell_type": "markdown",
   "id": "c5034141",
   "metadata": {},
   "source": [
    "### WIND"
   ]
  },
  {
   "cell_type": "code",
   "execution_count": 15,
   "id": "c67630ed",
   "metadata": {
    "scrolled": false
   },
   "outputs": [
    {
     "name": "stdout",
     "output_type": "stream",
     "text": [
      "Mean\t\t 1.0\n",
      "Sarimax\t\t 1.065\n",
      "Prophet\t\t 0.925\n",
      "Neural Prophet\t 0.915\n",
      "Multi Prophet\t 0.925\n"
     ]
    }
   ],
   "source": [
    "print(\"Mean\\t\\t\", (relative_rmse(reanalysis_2016.wind, means_2016.wind) + relative_rmse(reanalysis_2017.wind, means_2017.wind)) / 2)\n",
    "print(\"Sarimax\\t\\t\", (relative_rmse(reanalysis_2016.wind, sarimax_2016.wind) + relative_rmse(reanalysis_2017.wind, sarimax_2017.wind)) / 2)\n",
    "print(\"Prophet\\t\\t\", (relative_rmse(reanalysis_2016.wind, prophet_2016.wind) + relative_rmse(reanalysis_2017.wind, prophet_2017.wind)) / 2)\n",
    "print(\"Neural Prophet\\t\", (relative_rmse(reanalysis_2016.wind, neural_prophet_2016.wind) + relative_rmse(reanalysis_2017.wind, neural_prophet_2017.wind)) / 2)\n",
    "print(\"Multi Prophet\\t\", (relative_rmse(reanalysis_2016.wind, multi_prophet_2016.wind)+ relative_rmse(reanalysis_2017.wind, multi_prophet_2017.wind)) / 2)"
   ]
  },
  {
   "cell_type": "markdown",
   "id": "d5635e8b",
   "metadata": {},
   "source": [
    "### GLOBRAD"
   ]
  },
  {
   "cell_type": "code",
   "execution_count": 16,
   "id": "6ae5feb5",
   "metadata": {
    "scrolled": false
   },
   "outputs": [
    {
     "name": "stdout",
     "output_type": "stream",
     "text": [
      "Mean\t\t 0.52\n",
      "Sarimax\t\t 0.575\n",
      "Prophet\t\t 0.495\n",
      "Neural Prophet\t 0.5\n",
      "Multi Prophet\t 0.495\n"
     ]
    }
   ],
   "source": [
    "print(\"Mean\\t\\t\", (relative_rmse(reanalysis_2016.globrad, means_2016.globrad) + relative_rmse(reanalysis_2017.globrad, means_2017.globrad)) / 2)\n",
    "print(\"Sarimax\\t\\t\", (relative_rmse(reanalysis_2016.globrad, sarimax_2016.globrad) + relative_rmse(reanalysis_2017.globrad, sarimax_2017.globrad)) / 2)\n",
    "print(\"Prophet\\t\\t\", (relative_rmse(reanalysis_2016.globrad, prophet_2016.globrad) + relative_rmse(reanalysis_2017.globrad, prophet_2017.globrad)) / 2)\n",
    "print(\"Neural Prophet\\t\", (relative_rmse(reanalysis_2016.globrad, neural_prophet_2016.globrad) + relative_rmse(reanalysis_2017.globrad, neural_prophet_2017.globrad)) / 2)\n",
    "print(\"Multi Prophet\\t\", (relative_rmse(reanalysis_2016.globrad, multi_prophet_2016.globrad)+ relative_rmse(reanalysis_2017.globrad, multi_prophet_2017.globrad)) / 2)"
   ]
  },
  {
   "cell_type": "markdown",
   "id": "f824dbae",
   "metadata": {},
   "source": [
    "### PRECIP"
   ]
  },
  {
   "cell_type": "code",
   "execution_count": 17,
   "id": "1660fc16",
   "metadata": {
    "scrolled": false
   },
   "outputs": [
    {
     "name": "stdout",
     "output_type": "stream",
     "text": [
      "Mean\t\t 1.0550000000000002\n",
      "Sarimax\t\t 1.04\n",
      "Prophet\t\t 0.995\n",
      "Neural Prophet\t 0.995\n",
      "Multi Prophet\t 0.995\n"
     ]
    }
   ],
   "source": [
    "print(\"Mean\\t\\t\", (relative_rmse(reanalysis_2016.precip, means_2016.precip) + relative_rmse(reanalysis_2017.precip, means_2017.precip)) / 2)\n",
    "print(\"Sarimax\\t\\t\", (relative_rmse(reanalysis_2016.precip, sarimax_2016.precip) + relative_rmse(reanalysis_2017.precip, sarimax_2017.precip)) / 2)\n",
    "print(\"Prophet\\t\\t\", (relative_rmse(reanalysis_2016.precip, prophet_2016.precip) + relative_rmse(reanalysis_2017.precip, prophet_2017.precip)) / 2)\n",
    "print(\"Neural Prophet\\t\", (relative_rmse(reanalysis_2016.precip, neural_prophet_2016.precip) + relative_rmse(reanalysis_2017.precip, neural_prophet_2017.precip)) / 2)\n",
    "print(\"Multi Prophet\\t\", (relative_rmse(reanalysis_2016.precip, multi_prophet_2016.precip)+ relative_rmse(reanalysis_2017.precip, multi_prophet_2017.precip)) / 2)"
   ]
  },
  {
   "cell_type": "markdown",
   "id": "80cd3619",
   "metadata": {},
   "source": [
    "### RELHUMID"
   ]
  },
  {
   "cell_type": "code",
   "execution_count": 18,
   "id": "f317cc6c",
   "metadata": {
    "scrolled": false
   },
   "outputs": [
    {
     "name": "stdout",
     "output_type": "stream",
     "text": [
      "Mean\t\t 0.8\n",
      "Sarimax\t\t 0.82\n",
      "Prophet\t\t 0.8999999999999999\n",
      "Neural Prophet\t 0.9199999999999999\n",
      "Multi Prophet\t 0.905\n"
     ]
    }
   ],
   "source": [
    "print(\"Mean\\t\\t\", (relative_rmse(reanalysis_2016.relhumid, means_2016.relhumid) + relative_rmse(reanalysis_2017.relhumid, means_2017.relhumid)) / 2)\n",
    "print(\"Sarimax\\t\\t\", (relative_rmse(reanalysis_2016.relhumid, sarimax_2016.relhumid) + relative_rmse(reanalysis_2017.relhumid, sarimax_2017.relhumid)) / 2)\n",
    "print(\"Prophet\\t\\t\", (relative_rmse(reanalysis_2016.relhumid, prophet_2016.relhumid) + relative_rmse(reanalysis_2017.relhumid, prophet_2017.relhumid)) / 2)\n",
    "print(\"Neural Prophet\\t\", (relative_rmse(reanalysis_2016.relhumid, neural_prophet_2016.relhumid) + relative_rmse(reanalysis_2017.relhumid, neural_prophet_2017.relhumid)) / 2)\n",
    "print(\"Multi Prophet\\t\", (relative_rmse(reanalysis_2016.relhumid, multi_prophet_2016.relhumid)+ relative_rmse(reanalysis_2017.relhumid, multi_prophet_2017.relhumid)) / 2)"
   ]
  },
  {
   "cell_type": "markdown",
   "id": "532b0979",
   "metadata": {},
   "source": [
    "# R^2"
   ]
  },
  {
   "cell_type": "markdown",
   "id": "b66c2be6",
   "metadata": {},
   "source": [
    "### TAVG"
   ]
  },
  {
   "cell_type": "code",
   "execution_count": 19,
   "id": "cf725d31",
   "metadata": {
    "scrolled": false
   },
   "outputs": [
    {
     "name": "stdout",
     "output_type": "stream",
     "text": [
      "Mean\t\t 0.8250783796782215\n",
      "Sarimax\t\t 0.7128233790456865\n",
      "Prophet\t\t 0.8124439048010464\n",
      "Neural Prophet\t 0.8204965041775001\n",
      "Multi Prophet\t 0.8120820822584661\n"
     ]
    }
   ],
   "source": [
    "print(\"Mean\\t\\t\", (r2_score(reanalysis_2016.tavg, means_2016.tavg) + r2_score(reanalysis_2017.tavg, means_2017.tavg)) / 2)\n",
    "print(\"Sarimax\\t\\t\", (r2_score(reanalysis_2016.tavg, sarimax_2016.tavg) + r2_score(reanalysis_2017.tavg, sarimax_2017.tavg)) / 2)\n",
    "print(\"Prophet\\t\\t\", (r2_score(reanalysis_2016.tavg, prophet_2016.tavg) + r2_score(reanalysis_2017.tavg, prophet_2017.tavg)) / 2)\n",
    "print(\"Neural Prophet\\t\", (r2_score(reanalysis_2016.tavg, neural_prophet_2016.tavg) + r2_score(reanalysis_2017.tavg, neural_prophet_2017.tavg)) / 2)\n",
    "print(\"Multi Prophet\\t\", (r2_score(reanalysis_2016.tavg, multi_prophet_2016.tavg)+ r2_score(reanalysis_2017.tavg, multi_prophet_2017.tavg)) / 2)"
   ]
  },
  {
   "cell_type": "markdown",
   "id": "9969dac3",
   "metadata": {},
   "source": [
    "### TMIN"
   ]
  },
  {
   "cell_type": "code",
   "execution_count": 20,
   "id": "096f691e",
   "metadata": {
    "scrolled": true
   },
   "outputs": [
    {
     "data": {
      "text/html": [
       "<div>\n",
       "<style scoped>\n",
       "    .dataframe tbody tr th:only-of-type {\n",
       "        vertical-align: middle;\n",
       "    }\n",
       "\n",
       "    .dataframe tbody tr th {\n",
       "        vertical-align: top;\n",
       "    }\n",
       "\n",
       "    .dataframe thead th {\n",
       "        text-align: right;\n",
       "    }\n",
       "</style>\n",
       "<table border=\"1\" class=\"dataframe\">\n",
       "  <thead>\n",
       "    <tr style=\"text-align: right;\">\n",
       "      <th></th>\n",
       "      <th>de-date</th>\n",
       "      <th>tavg</th>\n",
       "      <th>tmin</th>\n",
       "      <th>tmax</th>\n",
       "      <th>wind</th>\n",
       "      <th>globrad</th>\n",
       "      <th>precip</th>\n",
       "      <th>relhumid</th>\n",
       "    </tr>\n",
       "  </thead>\n",
       "  <tbody>\n",
       "    <tr>\n",
       "      <th>0</th>\n",
       "      <td>2016-01-01</td>\n",
       "      <td>-12.35</td>\n",
       "      <td>-12.89</td>\n",
       "      <td>-11.24</td>\n",
       "      <td>4.75</td>\n",
       "      <td>3.36</td>\n",
       "      <td>1.00</td>\n",
       "      <td>77.69</td>\n",
       "    </tr>\n",
       "    <tr>\n",
       "      <th>1</th>\n",
       "      <td>2016-01-02</td>\n",
       "      <td>-14.06</td>\n",
       "      <td>-15.98</td>\n",
       "      <td>-13.05</td>\n",
       "      <td>3.30</td>\n",
       "      <td>3.28</td>\n",
       "      <td>0.85</td>\n",
       "      <td>82.06</td>\n",
       "    </tr>\n",
       "    <tr>\n",
       "      <th>2</th>\n",
       "      <td>2016-01-03</td>\n",
       "      <td>-15.60</td>\n",
       "      <td>-17.52</td>\n",
       "      <td>-14.22</td>\n",
       "      <td>3.75</td>\n",
       "      <td>3.50</td>\n",
       "      <td>0.29</td>\n",
       "      <td>83.69</td>\n",
       "    </tr>\n",
       "    <tr>\n",
       "      <th>3</th>\n",
       "      <td>2016-01-04</td>\n",
       "      <td>-14.80</td>\n",
       "      <td>-15.14</td>\n",
       "      <td>-14.48</td>\n",
       "      <td>4.75</td>\n",
       "      <td>3.42</td>\n",
       "      <td>1.63</td>\n",
       "      <td>85.19</td>\n",
       "    </tr>\n",
       "    <tr>\n",
       "      <th>4</th>\n",
       "      <td>2016-01-05</td>\n",
       "      <td>-14.24</td>\n",
       "      <td>-15.60</td>\n",
       "      <td>-12.29</td>\n",
       "      <td>3.30</td>\n",
       "      <td>3.16</td>\n",
       "      <td>0.28</td>\n",
       "      <td>89.50</td>\n",
       "    </tr>\n",
       "  </tbody>\n",
       "</table>\n",
       "</div>"
      ],
      "text/plain": [
       "     de-date   tavg   tmin   tmax  wind  globrad  precip  relhumid\n",
       "0 2016-01-01 -12.35 -12.89 -11.24  4.75     3.36    1.00     77.69\n",
       "1 2016-01-02 -14.06 -15.98 -13.05  3.30     3.28    0.85     82.06\n",
       "2 2016-01-03 -15.60 -17.52 -14.22  3.75     3.50    0.29     83.69\n",
       "3 2016-01-04 -14.80 -15.14 -14.48  4.75     3.42    1.63     85.19\n",
       "4 2016-01-05 -14.24 -15.60 -12.29  3.30     3.16    0.28     89.50"
      ]
     },
     "execution_count": 20,
     "metadata": {},
     "output_type": "execute_result"
    }
   ],
   "source": [
    "reanalysis_2016.head()"
   ]
  },
  {
   "cell_type": "code",
   "execution_count": 21,
   "id": "53894cee",
   "metadata": {
    "scrolled": true
   },
   "outputs": [
    {
     "name": "stdout",
     "output_type": "stream",
     "text": [
      "Mean\t\t 0.7633059746413212\n",
      "Sarimax\t\t 0.6908899225119142\n",
      "Prophet\t\t 0.7656511726483647\n",
      "Neural Prophet\t 0.7695799336368487\n",
      "Multi Prophet\t 0.7656509044338498\n"
     ]
    }
   ],
   "source": [
    "print(\"Mean\\t\\t\", (r2_score(reanalysis_2016.tmin, means_2016.tmin) + r2_score(reanalysis_2017.tmin, means_2017.tmin)) / 2)\n",
    "print(\"Sarimax\\t\\t\", (r2_score(reanalysis_2016.tmin, sarimax_2016.tmin) + r2_score(reanalysis_2017.tmin, sarimax_2017.tmin)) / 2)\n",
    "print(\"Prophet\\t\\t\", (r2_score(reanalysis_2016.tmin, prophet_2016.tmin) + r2_score(reanalysis_2017.tmin, prophet_2017.tmin)) / 2)\n",
    "print(\"Neural Prophet\\t\", (r2_score(reanalysis_2016.tmin, neural_prophet_2016.tmin) + r2_score(reanalysis_2017.tmin, neural_prophet_2017.tmin)) / 2)\n",
    "print(\"Multi Prophet\\t\", (r2_score(reanalysis_2016.tmin, multi_prophet_2016.tmin)+ r2_score(reanalysis_2017.tmin, multi_prophet_2017.tmin)) / 2)"
   ]
  },
  {
   "cell_type": "markdown",
   "id": "43041656",
   "metadata": {},
   "source": [
    "### TMAX"
   ]
  },
  {
   "cell_type": "code",
   "execution_count": 22,
   "id": "d8403f89",
   "metadata": {
    "scrolled": true
   },
   "outputs": [
    {
     "name": "stdout",
     "output_type": "stream",
     "text": [
      "Mean\t\t 0.8380571677746479\n",
      "Sarimax\t\t 0.7694720802682404\n",
      "Prophet\t\t 0.8064649957098515\n",
      "Neural Prophet\t 0.8209767820055054\n",
      "Multi Prophet\t 0.806464995709849\n"
     ]
    }
   ],
   "source": [
    "print(\"Mean\\t\\t\", (r2_score(reanalysis_2016.tmax, means_2016.tmax) + r2_score(reanalysis_2017.tmax, means_2017.tmax)) / 2)\n",
    "print(\"Sarimax\\t\\t\", (r2_score(reanalysis_2016.tmax, sarimax_2016.tmax) + r2_score(reanalysis_2017.tmax, sarimax_2017.tmax)) / 2)\n",
    "print(\"Prophet\\t\\t\", (r2_score(reanalysis_2016.tmax, prophet_2016.tmax) + r2_score(reanalysis_2017.tmax, prophet_2017.tmax)) / 2)\n",
    "print(\"Neural Prophet\\t\", (r2_score(reanalysis_2016.tmax, neural_prophet_2016.tmax) + r2_score(reanalysis_2017.tmax, neural_prophet_2017.tmax)) / 2)\n",
    "print(\"Multi Prophet\\t\", (r2_score(reanalysis_2016.tmax, multi_prophet_2016.tmax)+ r2_score(reanalysis_2017.tmax, multi_prophet_2017.tmax)) / 2)"
   ]
  },
  {
   "cell_type": "markdown",
   "id": "35e7426d",
   "metadata": {},
   "source": [
    "### WIND"
   ]
  },
  {
   "cell_type": "code",
   "execution_count": 23,
   "id": "4e1ad72e",
   "metadata": {
    "scrolled": false
   },
   "outputs": [
    {
     "name": "stdout",
     "output_type": "stream",
     "text": [
      "Mean\t\t -0.01130296097101574\n",
      "Sarimax\t\t -0.14195120312966336\n",
      "Prophet\t\t 0.13582854174330505\n",
      "Neural Prophet\t 0.10535703640305055\n",
      "Multi Prophet\t 0.13582854174330505\n"
     ]
    }
   ],
   "source": [
    "print(\"Mean\\t\\t\", (r2_score(reanalysis_2016.wind, means_2016.wind) + r2_score(reanalysis_2017.wind, means_2017.wind)) / 2)\n",
    "print(\"Sarimax\\t\\t\", (r2_score(reanalysis_2016.wind, sarimax_2016.wind) + r2_score(reanalysis_2017.wind, sarimax_2017.wind)) / 2)\n",
    "print(\"Prophet\\t\\t\", (r2_score(reanalysis_2016.wind, prophet_2016.wind) + r2_score(reanalysis_2017.wind, prophet_2017.wind)) / 2)\n",
    "print(\"Neural Prophet\\t\", (r2_score(reanalysis_2016.wind, neural_prophet_2016.wind) + r2_score(reanalysis_2017.wind, neural_prophet_2017.wind)) / 2)\n",
    "print(\"Multi Prophet\\t\", (r2_score(reanalysis_2016.wind, multi_prophet_2016.wind)+ r2_score(reanalysis_2017.wind, multi_prophet_2017.wind)) / 2)"
   ]
  },
  {
   "cell_type": "markdown",
   "id": "2cc87a8b",
   "metadata": {},
   "source": [
    "### GLOBRAD"
   ]
  },
  {
   "cell_type": "code",
   "execution_count": 24,
   "id": "87b34c75",
   "metadata": {
    "scrolled": false
   },
   "outputs": [
    {
     "name": "stdout",
     "output_type": "stream",
     "text": [
      "Mean\t\t 0.7278094351283673\n",
      "Sarimax\t\t 0.6656606345232157\n",
      "Prophet\t\t 0.750206232452136\n",
      "Neural Prophet\t 0.7484218981922895\n",
      "Multi Prophet\t 0.750206232452136\n"
     ]
    }
   ],
   "source": [
    "print(\"Mean\\t\\t\", (r2_score(reanalysis_2016.globrad, means_2016.globrad) + r2_score(reanalysis_2017.globrad, means_2017.globrad)) / 2)\n",
    "print(\"Sarimax\\t\\t\", (r2_score(reanalysis_2016.globrad, sarimax_2016.globrad) + r2_score(reanalysis_2017.globrad, sarimax_2017.globrad)) / 2)\n",
    "print(\"Prophet\\t\\t\", (r2_score(reanalysis_2016.globrad, prophet_2016.globrad) + r2_score(reanalysis_2017.globrad, prophet_2017.globrad)) / 2)\n",
    "print(\"Neural Prophet\\t\", (r2_score(reanalysis_2016.globrad, neural_prophet_2016.globrad) + r2_score(reanalysis_2017.globrad, neural_prophet_2017.globrad)) / 2)\n",
    "print(\"Multi Prophet\\t\", (r2_score(reanalysis_2016.globrad, multi_prophet_2016.globrad)+ r2_score(reanalysis_2017.globrad, multi_prophet_2017.globrad)) / 2)"
   ]
  },
  {
   "cell_type": "markdown",
   "id": "7f16d5f6",
   "metadata": {},
   "source": [
    "### PRECIP"
   ]
  },
  {
   "cell_type": "code",
   "execution_count": 25,
   "id": "c6359e9f",
   "metadata": {
    "scrolled": false
   },
   "outputs": [
    {
     "name": "stdout",
     "output_type": "stream",
     "text": [
      "Mean\t\t -0.13411550187785448\n",
      "Sarimax\t\t -0.10391621110641336\n",
      "Prophet\t\t -0.11423987395120594\n",
      "Neural Prophet\t -0.05024460960173094\n",
      "Multi Prophet\t -0.11423987395120594\n"
     ]
    }
   ],
   "source": [
    "print(\"Mean\\t\\t\", (r2_score(reanalysis_2016.precip, means_2016.precip) + r2_score(reanalysis_2017.precip, means_2017.precip)) / 2)\n",
    "print(\"Sarimax\\t\\t\", (r2_score(reanalysis_2016.precip, sarimax_2016.precip) + r2_score(reanalysis_2017.precip, sarimax_2017.precip)) / 2)\n",
    "print(\"Prophet\\t\\t\", (r2_score(reanalysis_2016.precip, prophet_2016.precip) + r2_score(reanalysis_2017.precip, prophet_2017.precip)) / 2)\n",
    "print(\"Neural Prophet\\t\", (r2_score(reanalysis_2016.precip, neural_prophet_2016.precip) + r2_score(reanalysis_2017.precip, neural_prophet_2017.precip)) / 2)\n",
    "print(\"Multi Prophet\\t\", (r2_score(reanalysis_2016.precip, multi_prophet_2016.precip)+ r2_score(reanalysis_2017.precip, multi_prophet_2017.precip)) / 2)"
   ]
  },
  {
   "cell_type": "markdown",
   "id": "446e1959",
   "metadata": {},
   "source": [
    "### RELHUMID"
   ]
  },
  {
   "cell_type": "code",
   "execution_count": 26,
   "id": "57276e29",
   "metadata": {
    "scrolled": false
   },
   "outputs": [
    {
     "name": "stdout",
     "output_type": "stream",
     "text": [
      "Mean\t\t 0.05617368317178928\n",
      "Sarimax\t\t 0.21374493647538967\n",
      "Prophet\t\t -0.5095602323734165\n",
      "Neural Prophet\t -0.5628623242287001\n",
      "Multi Prophet\t -0.5145437478870629\n"
     ]
    }
   ],
   "source": [
    "print(\"Mean\\t\\t\", (r2_score(reanalysis_2016.relhumid, means_2016.relhumid) + r2_score(reanalysis_2017.relhumid, means_2017.relhumid)) / 2)\n",
    "print(\"Sarimax\\t\\t\", (r2_score(reanalysis_2016.relhumid, sarimax_2016.relhumid) + r2_score(reanalysis_2017.relhumid, sarimax_2017.relhumid)) / 2)\n",
    "print(\"Prophet\\t\\t\", (r2_score(reanalysis_2016.relhumid, prophet_2016.relhumid) + r2_score(reanalysis_2017.relhumid, prophet_2017.relhumid)) / 2)\n",
    "print(\"Neural Prophet\\t\", (r2_score(reanalysis_2016.relhumid, neural_prophet_2016.relhumid) + r2_score(reanalysis_2017.relhumid, neural_prophet_2017.relhumid)) / 2)\n",
    "print(\"Multi Prophet\\t\", (r2_score(reanalysis_2016.relhumid, multi_prophet_2016.relhumid)+ r2_score(reanalysis_2017.relhumid, multi_prophet_2017.relhumid)) / 2)"
   ]
  },
  {
   "cell_type": "markdown",
   "id": "cfff70e2",
   "metadata": {},
   "source": [
    "# MSE"
   ]
  },
  {
   "cell_type": "markdown",
   "id": "ffc49c12",
   "metadata": {},
   "source": [
    "### TAVG"
   ]
  },
  {
   "cell_type": "code",
   "execution_count": 27,
   "id": "b084c3d3",
   "metadata": {
    "scrolled": false
   },
   "outputs": [
    {
     "name": "stdout",
     "output_type": "stream",
     "text": [
      "Mean\t\t 21.326639585475046\n",
      "Sarimax\t\t 34.9394022917907\n",
      "Prophet\t\t 22.713064655433442\n",
      "Neural Prophet\t 21.726987490302704\n",
      "Multi Prophet\t 22.753320978798723\n"
     ]
    }
   ],
   "source": [
    "print(\"Mean\\t\\t\", (mean_squared_error(reanalysis_2016.tavg, means_2016.tavg) + mean_squared_error(reanalysis_2017.tavg, means_2017.tavg)) / 2)\n",
    "print(\"Sarimax\\t\\t\", (mean_squared_error(reanalysis_2016.tavg, sarimax_2016.tavg) + mean_squared_error(reanalysis_2017.tavg, sarimax_2017.tavg)) / 2)\n",
    "print(\"Prophet\\t\\t\", (mean_squared_error(reanalysis_2016.tavg, prophet_2016.tavg) + mean_squared_error(reanalysis_2017.tavg, prophet_2017.tavg)) / 2)\n",
    "print(\"Neural Prophet\\t\", (mean_squared_error(reanalysis_2016.tavg, neural_prophet_2016.tavg) + mean_squared_error(reanalysis_2017.tavg, neural_prophet_2017.tavg)) / 2)\n",
    "print(\"Multi Prophet\\t\", (mean_squared_error(reanalysis_2016.tavg, multi_prophet_2016.tavg)+ mean_squared_error(reanalysis_2017.tavg, multi_prophet_2017.tavg)) / 2)"
   ]
  },
  {
   "cell_type": "markdown",
   "id": "b3f1747b",
   "metadata": {},
   "source": [
    "### TMIN"
   ]
  },
  {
   "cell_type": "code",
   "execution_count": 28,
   "id": "d4ec6110",
   "metadata": {
    "scrolled": true
   },
   "outputs": [
    {
     "data": {
      "text/html": [
       "<div>\n",
       "<style scoped>\n",
       "    .dataframe tbody tr th:only-of-type {\n",
       "        vertical-align: middle;\n",
       "    }\n",
       "\n",
       "    .dataframe tbody tr th {\n",
       "        vertical-align: top;\n",
       "    }\n",
       "\n",
       "    .dataframe thead th {\n",
       "        text-align: right;\n",
       "    }\n",
       "</style>\n",
       "<table border=\"1\" class=\"dataframe\">\n",
       "  <thead>\n",
       "    <tr style=\"text-align: right;\">\n",
       "      <th></th>\n",
       "      <th>de-date</th>\n",
       "      <th>tavg</th>\n",
       "      <th>tmin</th>\n",
       "      <th>tmax</th>\n",
       "      <th>wind</th>\n",
       "      <th>globrad</th>\n",
       "      <th>precip</th>\n",
       "      <th>relhumid</th>\n",
       "    </tr>\n",
       "  </thead>\n",
       "  <tbody>\n",
       "    <tr>\n",
       "      <th>0</th>\n",
       "      <td>2016-01-01</td>\n",
       "      <td>-12.35</td>\n",
       "      <td>-12.89</td>\n",
       "      <td>-11.24</td>\n",
       "      <td>4.75</td>\n",
       "      <td>3.36</td>\n",
       "      <td>1.00</td>\n",
       "      <td>77.69</td>\n",
       "    </tr>\n",
       "    <tr>\n",
       "      <th>1</th>\n",
       "      <td>2016-01-02</td>\n",
       "      <td>-14.06</td>\n",
       "      <td>-15.98</td>\n",
       "      <td>-13.05</td>\n",
       "      <td>3.30</td>\n",
       "      <td>3.28</td>\n",
       "      <td>0.85</td>\n",
       "      <td>82.06</td>\n",
       "    </tr>\n",
       "    <tr>\n",
       "      <th>2</th>\n",
       "      <td>2016-01-03</td>\n",
       "      <td>-15.60</td>\n",
       "      <td>-17.52</td>\n",
       "      <td>-14.22</td>\n",
       "      <td>3.75</td>\n",
       "      <td>3.50</td>\n",
       "      <td>0.29</td>\n",
       "      <td>83.69</td>\n",
       "    </tr>\n",
       "    <tr>\n",
       "      <th>3</th>\n",
       "      <td>2016-01-04</td>\n",
       "      <td>-14.80</td>\n",
       "      <td>-15.14</td>\n",
       "      <td>-14.48</td>\n",
       "      <td>4.75</td>\n",
       "      <td>3.42</td>\n",
       "      <td>1.63</td>\n",
       "      <td>85.19</td>\n",
       "    </tr>\n",
       "    <tr>\n",
       "      <th>4</th>\n",
       "      <td>2016-01-05</td>\n",
       "      <td>-14.24</td>\n",
       "      <td>-15.60</td>\n",
       "      <td>-12.29</td>\n",
       "      <td>3.30</td>\n",
       "      <td>3.16</td>\n",
       "      <td>0.28</td>\n",
       "      <td>89.50</td>\n",
       "    </tr>\n",
       "  </tbody>\n",
       "</table>\n",
       "</div>"
      ],
      "text/plain": [
       "     de-date   tavg   tmin   tmax  wind  globrad  precip  relhumid\n",
       "0 2016-01-01 -12.35 -12.89 -11.24  4.75     3.36    1.00     77.69\n",
       "1 2016-01-02 -14.06 -15.98 -13.05  3.30     3.28    0.85     82.06\n",
       "2 2016-01-03 -15.60 -17.52 -14.22  3.75     3.50    0.29     83.69\n",
       "3 2016-01-04 -14.80 -15.14 -14.48  4.75     3.42    1.63     85.19\n",
       "4 2016-01-05 -14.24 -15.60 -12.29  3.30     3.16    0.28     89.50"
      ]
     },
     "execution_count": 28,
     "metadata": {},
     "output_type": "execute_result"
    }
   ],
   "source": [
    "reanalysis_2016.head()"
   ]
  },
  {
   "cell_type": "code",
   "execution_count": 29,
   "id": "b732f570",
   "metadata": {
    "scrolled": true
   },
   "outputs": [
    {
     "name": "stdout",
     "output_type": "stream",
     "text": [
      "Mean\t\t 25.606203547171695\n",
      "Sarimax\t\t 33.20105203806064\n",
      "Prophet\t\t 25.16357398082282\n",
      "Neural Prophet\t 24.750745094332252\n",
      "Multi Prophet\t 25.16359955386759\n"
     ]
    }
   ],
   "source": [
    "print(\"Mean\\t\\t\", (mean_squared_error(reanalysis_2016.tmin, means_2016.tmin) + mean_squared_error(reanalysis_2017.tmin, means_2017.tmin)) / 2)\n",
    "print(\"Sarimax\\t\\t\", (mean_squared_error(reanalysis_2016.tmin, sarimax_2016.tmin) + mean_squared_error(reanalysis_2017.tmin, sarimax_2017.tmin)) / 2)\n",
    "print(\"Prophet\\t\\t\", (mean_squared_error(reanalysis_2016.tmin, prophet_2016.tmin) + mean_squared_error(reanalysis_2017.tmin, prophet_2017.tmin)) / 2)\n",
    "print(\"Neural Prophet\\t\", (mean_squared_error(reanalysis_2016.tmin, neural_prophet_2016.tmin) + mean_squared_error(reanalysis_2017.tmin, neural_prophet_2017.tmin)) / 2)\n",
    "print(\"Multi Prophet\\t\", (mean_squared_error(reanalysis_2016.tmin, multi_prophet_2016.tmin)+ mean_squared_error(reanalysis_2017.tmin, multi_prophet_2017.tmin)) / 2)"
   ]
  },
  {
   "cell_type": "markdown",
   "id": "f191f392",
   "metadata": {},
   "source": [
    "### TMAX"
   ]
  },
  {
   "cell_type": "code",
   "execution_count": 30,
   "id": "622a2b27",
   "metadata": {
    "scrolled": true
   },
   "outputs": [
    {
     "name": "stdout",
     "output_type": "stream",
     "text": [
      "Mean\t\t 22.894454269541548\n",
      "Sarimax\t\t 32.38103856020833\n",
      "Prophet\t\t 27.211489849201303\n",
      "Neural Prophet\t 25.10693165493784\n",
      "Multi Prophet\t 27.211489849201676\n"
     ]
    }
   ],
   "source": [
    "print(\"Mean\\t\\t\", (mean_squared_error(reanalysis_2016.tmax, means_2016.tmax) + mean_squared_error(reanalysis_2017.tmax, means_2017.tmax)) / 2)\n",
    "print(\"Sarimax\\t\\t\", (mean_squared_error(reanalysis_2016.tmax, sarimax_2016.tmax) + mean_squared_error(reanalysis_2017.tmax, sarimax_2017.tmax)) / 2)\n",
    "print(\"Prophet\\t\\t\", (mean_squared_error(reanalysis_2016.tmax, prophet_2016.tmax) + mean_squared_error(reanalysis_2017.tmax, prophet_2017.tmax)) / 2)\n",
    "print(\"Neural Prophet\\t\", (mean_squared_error(reanalysis_2016.tmax, neural_prophet_2016.tmax) + mean_squared_error(reanalysis_2017.tmax, neural_prophet_2017.tmax)) / 2)\n",
    "print(\"Multi Prophet\\t\", (mean_squared_error(reanalysis_2016.tmax, multi_prophet_2016.tmax)+ mean_squared_error(reanalysis_2017.tmax, multi_prophet_2017.tmax)) / 2)"
   ]
  },
  {
   "cell_type": "markdown",
   "id": "e8826d52",
   "metadata": {},
   "source": [
    "### WIND"
   ]
  },
  {
   "cell_type": "code",
   "execution_count": 31,
   "id": "1207aada",
   "metadata": {
    "scrolled": false
   },
   "outputs": [
    {
     "name": "stdout",
     "output_type": "stream",
     "text": [
      "Mean\t\t 1.9509068347077707\n",
      "Sarimax\t\t 2.2028125792062676\n",
      "Prophet\t\t 1.6670234297211302\n",
      "Neural Prophet\t 1.725781495276789\n",
      "Multi Prophet\t 1.6670234297211302\n"
     ]
    }
   ],
   "source": [
    "print(\"Mean\\t\\t\", (mean_squared_error(reanalysis_2016.wind, means_2016.wind) + mean_squared_error(reanalysis_2017.wind, means_2017.wind)) / 2)\n",
    "print(\"Sarimax\\t\\t\", (mean_squared_error(reanalysis_2016.wind, sarimax_2016.wind) + mean_squared_error(reanalysis_2017.wind, sarimax_2017.wind)) / 2)\n",
    "print(\"Prophet\\t\\t\", (mean_squared_error(reanalysis_2016.wind, prophet_2016.wind) + mean_squared_error(reanalysis_2017.wind, prophet_2017.wind)) / 2)\n",
    "print(\"Neural Prophet\\t\", (mean_squared_error(reanalysis_2016.wind, neural_prophet_2016.wind) + mean_squared_error(reanalysis_2017.wind, neural_prophet_2017.wind)) / 2)\n",
    "print(\"Multi Prophet\\t\", (mean_squared_error(reanalysis_2016.wind, multi_prophet_2016.wind)+ mean_squared_error(reanalysis_2017.wind, multi_prophet_2017.wind)) / 2)"
   ]
  },
  {
   "cell_type": "markdown",
   "id": "ae806987",
   "metadata": {},
   "source": [
    "### GLOBRAD"
   ]
  },
  {
   "cell_type": "code",
   "execution_count": 32,
   "id": "53ae2343",
   "metadata": {
    "scrolled": false
   },
   "outputs": [
    {
     "name": "stdout",
     "output_type": "stream",
     "text": [
      "Mean\t\t 18.65025617063195\n",
      "Sarimax\t\t 22.940921332357725\n",
      "Prophet\t\t 17.088442167045223\n",
      "Neural Prophet\t 17.251128373948475\n",
      "Multi Prophet\t 17.088442167045223\n"
     ]
    }
   ],
   "source": [
    "print(\"Mean\\t\\t\", (mean_squared_error(reanalysis_2016.globrad, means_2016.globrad) + mean_squared_error(reanalysis_2017.globrad, means_2017.globrad)) / 2)\n",
    "print(\"Sarimax\\t\\t\", (mean_squared_error(reanalysis_2016.globrad, sarimax_2016.globrad) + mean_squared_error(reanalysis_2017.globrad, sarimax_2017.globrad)) / 2)\n",
    "print(\"Prophet\\t\\t\", (mean_squared_error(reanalysis_2016.globrad, prophet_2016.globrad) + mean_squared_error(reanalysis_2017.globrad, prophet_2017.globrad)) / 2)\n",
    "print(\"Neural Prophet\\t\", (mean_squared_error(reanalysis_2016.globrad, neural_prophet_2016.globrad) + mean_squared_error(reanalysis_2017.globrad, neural_prophet_2017.globrad)) / 2)\n",
    "print(\"Multi Prophet\\t\", (mean_squared_error(reanalysis_2016.globrad, multi_prophet_2016.globrad)+ mean_squared_error(reanalysis_2017.globrad, multi_prophet_2017.globrad)) / 2)"
   ]
  },
  {
   "cell_type": "markdown",
   "id": "c188ea16",
   "metadata": {},
   "source": [
    "### PRECIP"
   ]
  },
  {
   "cell_type": "code",
   "execution_count": 33,
   "id": "470f2629",
   "metadata": {
    "scrolled": false
   },
   "outputs": [
    {
     "name": "stdout",
     "output_type": "stream",
     "text": [
      "Mean\t\t 21.179981523723082\n",
      "Sarimax\t\t 20.50013499700429\n",
      "Prophet\t\t 20.742074502020564\n",
      "Neural Prophet\t 19.544515935996216\n",
      "Multi Prophet\t 20.742074502020564\n"
     ]
    }
   ],
   "source": [
    "print(\"Mean\\t\\t\", (mean_squared_error(reanalysis_2016.precip, means_2016.precip) + mean_squared_error(reanalysis_2017.precip, means_2017.precip)) / 2)\n",
    "print(\"Sarimax\\t\\t\", (mean_squared_error(reanalysis_2016.precip, sarimax_2016.precip) + mean_squared_error(reanalysis_2017.precip, sarimax_2017.precip)) / 2)\n",
    "print(\"Prophet\\t\\t\", (mean_squared_error(reanalysis_2016.precip, prophet_2016.precip) + mean_squared_error(reanalysis_2017.precip, prophet_2017.precip)) / 2)\n",
    "print(\"Neural Prophet\\t\", (mean_squared_error(reanalysis_2016.precip, neural_prophet_2016.precip) + mean_squared_error(reanalysis_2017.precip, neural_prophet_2017.precip)) / 2)\n",
    "print(\"Multi Prophet\\t\", (mean_squared_error(reanalysis_2016.precip, multi_prophet_2016.precip)+ mean_squared_error(reanalysis_2017.precip, multi_prophet_2017.precip)) / 2)"
   ]
  },
  {
   "cell_type": "markdown",
   "id": "7fa1a71f",
   "metadata": {},
   "source": [
    "### RELHUMID"
   ]
  },
  {
   "cell_type": "code",
   "execution_count": 34,
   "id": "3c5f1d6b",
   "metadata": {
    "scrolled": false
   },
   "outputs": [
    {
     "name": "stdout",
     "output_type": "stream",
     "text": [
      "Mean\t\t 92.35548119947225\n",
      "Sarimax\t\t 84.78345983351718\n",
      "Prophet\t\t 184.24631805262035\n",
      "Neural Prophet\t 194.86523305129867\n",
      "Multi Prophet\t 185.0529994870521\n"
     ]
    }
   ],
   "source": [
    "print(\"Mean\\t\\t\", (mean_squared_error(reanalysis_2016.relhumid, means_2016.relhumid) + mean_squared_error(reanalysis_2017.relhumid, means_2017.relhumid)) / 2)\n",
    "print(\"Sarimax\\t\\t\", (mean_squared_error(reanalysis_2016.relhumid, sarimax_2016.relhumid) + mean_squared_error(reanalysis_2017.relhumid, sarimax_2017.relhumid)) / 2)\n",
    "print(\"Prophet\\t\\t\", (mean_squared_error(reanalysis_2016.relhumid, prophet_2016.relhumid) + mean_squared_error(reanalysis_2017.relhumid, prophet_2017.relhumid)) / 2)\n",
    "print(\"Neural Prophet\\t\", (mean_squared_error(reanalysis_2016.relhumid, neural_prophet_2016.relhumid) + mean_squared_error(reanalysis_2017.relhumid, neural_prophet_2017.relhumid)) / 2)\n",
    "print(\"Multi Prophet\\t\", (mean_squared_error(reanalysis_2016.relhumid, multi_prophet_2016.relhumid)+ mean_squared_error(reanalysis_2017.relhumid, multi_prophet_2017.relhumid)) / 2)"
   ]
  },
  {
   "cell_type": "code",
   "execution_count": 35,
   "id": "56d2ec79",
   "metadata": {},
   "outputs": [
    {
     "name": "stdout",
     "output_type": "stream",
     "text": [
      "Collecting tslearn\n",
      "  Downloading tslearn-0.5.3.2-py3-none-any.whl (358 kB)\n",
      "\u001b[2K     \u001b[90m━━━━━━━━━━━━━━━━━━━━━━━━━━━━━━━━━━━━━━━\u001b[0m \u001b[32m358.2/358.2 kB\u001b[0m \u001b[31m3.5 MB/s\u001b[0m eta \u001b[36m0:00:00\u001b[0ma \u001b[36m0:00:01\u001b[0m\n",
      "\u001b[?25hRequirement already satisfied: scikit-learn in /usr/local/lib/python3.7/dist-packages (from tslearn) (1.0.2)\n",
      "Requirement already satisfied: scipy in /usr/local/lib/python3.7/dist-packages (from tslearn) (1.7.3)\n",
      "Requirement already satisfied: joblib in /usr/local/lib/python3.7/dist-packages (from tslearn) (1.2.0)\n",
      "Requirement already satisfied: numpy in /usr/local/lib/python3.7/dist-packages (from tslearn) (1.21.6)\n",
      "Collecting numba\n",
      "  Downloading numba-0.56.4-cp37-cp37m-manylinux2014_x86_64.manylinux_2_17_x86_64.whl (3.5 MB)\n",
      "\u001b[2K     \u001b[90m━━━━━━━━━━━━━━━━━━━━━━━━━━━━━━━━━━━━━━━━\u001b[0m \u001b[32m3.5/3.5 MB\u001b[0m \u001b[31m6.3 MB/s\u001b[0m eta \u001b[36m0:00:00\u001b[0m00:01\u001b[0m00:01\u001b[0m\n",
      "\u001b[?25hCollecting llvmlite<0.40,>=0.39.0dev0\n",
      "  Downloading llvmlite-0.39.1-cp37-cp37m-manylinux_2_17_x86_64.manylinux2014_x86_64.whl (34.6 MB)\n",
      "\u001b[2K     \u001b[90m━━━━━━━━━━━━━━━━━━━━━━━━━━━━━━━━━━━━━━━━\u001b[0m \u001b[32m34.6/34.6 MB\u001b[0m \u001b[31m1.9 MB/s\u001b[0m eta \u001b[36m0:00:00\u001b[0m00:01\u001b[0m00:01\u001b[0m\n",
      "\u001b[?25hRequirement already satisfied: setuptools in /usr/lib/python3/dist-packages (from numba->tslearn) (40.8.0)\n",
      "Requirement already satisfied: importlib-metadata in /usr/local/lib/python3.7/dist-packages (from numba->tslearn) (6.1.0)\n",
      "Requirement already satisfied: threadpoolctl>=2.0.0 in /usr/local/lib/python3.7/dist-packages (from scikit-learn->tslearn) (3.1.0)\n",
      "Requirement already satisfied: zipp>=0.5 in /usr/local/lib/python3.7/dist-packages (from importlib-metadata->numba->tslearn) (3.15.0)\n",
      "Requirement already satisfied: typing-extensions>=3.6.4 in /usr/local/lib/python3.7/dist-packages (from importlib-metadata->numba->tslearn) (4.5.0)\n",
      "Installing collected packages: llvmlite, numba, tslearn\n",
      "Successfully installed llvmlite-0.39.1 numba-0.56.4 tslearn-0.5.3.2\n",
      "\u001b[33mWARNING: Running pip as the 'root' user can result in broken permissions and conflicting behaviour with the system package manager. It is recommended to use a virtual environment instead: https://pip.pypa.io/warnings/venv\u001b[0m\u001b[33m\n",
      "\u001b[0m"
     ]
    }
   ],
   "source": [
    "! pip install tslearn"
   ]
  },
  {
   "cell_type": "code",
   "execution_count": 36,
   "id": "b5877c79",
   "metadata": {},
   "outputs": [
    {
     "name": "stderr",
     "output_type": "stream",
     "text": [
      "/usr/local/lib/python3.7/dist-packages/tslearn/bases/bases.py:15: UserWarning: h5py not installed, hdf5 features will not be supported.\n",
      "Install h5py to use hdf5 features: http://docs.h5py.org/\n",
      "  warn(h5py_msg)\n"
     ]
    }
   ],
   "source": [
    "from tslearn.metrics import dtw"
   ]
  },
  {
   "cell_type": "markdown",
   "id": "1a17493a",
   "metadata": {},
   "source": [
    "# MSE"
   ]
  },
  {
   "cell_type": "markdown",
   "id": "91021f63",
   "metadata": {},
   "source": [
    "### TAVG"
   ]
  },
  {
   "cell_type": "code",
   "execution_count": 37,
   "id": "3581f7c7",
   "metadata": {
    "scrolled": false
   },
   "outputs": [
    {
     "name": "stdout",
     "output_type": "stream",
     "text": [
      "Mean\t\t 47.737352286776115\n",
      "Sarimax\t\t 49.84364781053515\n",
      "Prophet\t\t 61.20468230837088\n",
      "Neural Prophet\t 61.507374228919716\n",
      "Multi Prophet\t 61.24797318631863\n"
     ]
    }
   ],
   "source": [
    "print(\"Mean\\t\\t\", (dtw(reanalysis_2016.tavg, means_2016.tavg) + dtw(reanalysis_2017.tavg, means_2017.tavg)) / 2)\n",
    "print(\"Sarimax\\t\\t\", (dtw(reanalysis_2016.tavg, sarimax_2016.tavg) + dtw(reanalysis_2017.tavg, sarimax_2017.tavg)) / 2)\n",
    "print(\"Prophet\\t\\t\", (dtw(reanalysis_2016.tavg, prophet_2016.tavg) + dtw(reanalysis_2017.tavg, prophet_2017.tavg)) / 2)\n",
    "print(\"Neural Prophet\\t\", (dtw(reanalysis_2016.tavg, neural_prophet_2016.tavg) + dtw(reanalysis_2017.tavg, neural_prophet_2017.tavg)) / 2)\n",
    "print(\"Multi Prophet\\t\", (dtw(reanalysis_2016.tavg, multi_prophet_2016.tavg)+ dtw(reanalysis_2017.tavg, multi_prophet_2017.tavg)) / 2)"
   ]
  },
  {
   "cell_type": "markdown",
   "id": "6ab3bb81",
   "metadata": {},
   "source": [
    "### TMIN"
   ]
  },
  {
   "cell_type": "code",
   "execution_count": 38,
   "id": "67b5501d",
   "metadata": {
    "scrolled": true
   },
   "outputs": [
    {
     "name": "stdout",
     "output_type": "stream",
     "text": [
      "Mean\t\t 54.06969528372595\n",
      "Sarimax\t\t 47.878376947739994\n",
      "Prophet\t\t 66.71186512007395\n",
      "Neural Prophet\t 68.36209917049797\n",
      "Multi Prophet\t 66.71189445150067\n"
     ]
    }
   ],
   "source": [
    "print(\"Mean\\t\\t\", (dtw(reanalysis_2016.tmin, means_2016.tmin) + dtw(reanalysis_2017.tmin, means_2017.tmin)) / 2)\n",
    "print(\"Sarimax\\t\\t\", (dtw(reanalysis_2016.tmin, sarimax_2016.tmin) + dtw(reanalysis_2017.tmin, sarimax_2017.tmin)) / 2)\n",
    "print(\"Prophet\\t\\t\", (dtw(reanalysis_2016.tmin, prophet_2016.tmin) + dtw(reanalysis_2017.tmin, prophet_2017.tmin)) / 2)\n",
    "print(\"Neural Prophet\\t\", (dtw(reanalysis_2016.tmin, neural_prophet_2016.tmin) + dtw(reanalysis_2017.tmin, neural_prophet_2017.tmin)) / 2)\n",
    "print(\"Multi Prophet\\t\", (dtw(reanalysis_2016.tmin, multi_prophet_2016.tmin)+ dtw(reanalysis_2017.tmin, multi_prophet_2017.tmin)) / 2)"
   ]
  },
  {
   "cell_type": "markdown",
   "id": "b6757ec4",
   "metadata": {},
   "source": [
    "### TMAX"
   ]
  },
  {
   "cell_type": "code",
   "execution_count": 39,
   "id": "e928fe10",
   "metadata": {
    "scrolled": true
   },
   "outputs": [
    {
     "name": "stdout",
     "output_type": "stream",
     "text": [
      "Mean\t\t 50.15000348114549\n",
      "Sarimax\t\t 46.276981671677305\n",
      "Prophet\t\t 66.18716845669809\n",
      "Neural Prophet\t 66.30318838501785\n",
      "Multi Prophet\t 66.1871684566983\n"
     ]
    }
   ],
   "source": [
    "print(\"Mean\\t\\t\", (dtw(reanalysis_2016.tmax, means_2016.tmax) + dtw(reanalysis_2017.tmax, means_2017.tmax)) / 2)\n",
    "print(\"Sarimax\\t\\t\", (dtw(reanalysis_2016.tmax, sarimax_2016.tmax) + dtw(reanalysis_2017.tmax, sarimax_2017.tmax)) / 2)\n",
    "print(\"Prophet\\t\\t\", (dtw(reanalysis_2016.tmax, prophet_2016.tmax) + dtw(reanalysis_2017.tmax, prophet_2017.tmax)) / 2)\n",
    "print(\"Neural Prophet\\t\", (dtw(reanalysis_2016.tmax, neural_prophet_2016.tmax) + dtw(reanalysis_2017.tmax, neural_prophet_2017.tmax)) / 2)\n",
    "print(\"Multi Prophet\\t\", (dtw(reanalysis_2016.tmax, multi_prophet_2016.tmax)+ dtw(reanalysis_2017.tmax, multi_prophet_2017.tmax)) / 2)"
   ]
  },
  {
   "cell_type": "markdown",
   "id": "528853b5",
   "metadata": {},
   "source": [
    "### WIND"
   ]
  },
  {
   "cell_type": "code",
   "execution_count": 40,
   "id": "c9160535",
   "metadata": {
    "scrolled": false
   },
   "outputs": [
    {
     "name": "stdout",
     "output_type": "stream",
     "text": [
      "Mean\t\t 16.675848536967194\n",
      "Sarimax\t\t 15.886374022192564\n",
      "Prophet\t\t 21.94862024634022\n",
      "Neural Prophet\t 22.64531254877572\n",
      "Multi Prophet\t 21.94862024634022\n"
     ]
    }
   ],
   "source": [
    "print(\"Mean\\t\\t\", (dtw(reanalysis_2016.wind, means_2016.wind) + dtw(reanalysis_2017.wind, means_2017.wind)) / 2)\n",
    "print(\"Sarimax\\t\\t\", (dtw(reanalysis_2016.wind, sarimax_2016.wind) + dtw(reanalysis_2017.wind, sarimax_2017.wind)) / 2)\n",
    "print(\"Prophet\\t\\t\", (dtw(reanalysis_2016.wind, prophet_2016.wind) + dtw(reanalysis_2017.wind, prophet_2017.wind)) / 2)\n",
    "print(\"Neural Prophet\\t\", (dtw(reanalysis_2016.wind, neural_prophet_2016.wind) + dtw(reanalysis_2017.wind, neural_prophet_2017.wind)) / 2)\n",
    "print(\"Multi Prophet\\t\", (dtw(reanalysis_2016.wind, multi_prophet_2016.wind)+ dtw(reanalysis_2017.wind, multi_prophet_2017.wind)) / 2)"
   ]
  },
  {
   "cell_type": "markdown",
   "id": "bf0339b5",
   "metadata": {},
   "source": [
    "### GLOBRAD"
   ]
  },
  {
   "cell_type": "code",
   "execution_count": 41,
   "id": "900506e6",
   "metadata": {
    "scrolled": false
   },
   "outputs": [
    {
     "name": "stdout",
     "output_type": "stream",
     "text": [
      "Mean\t\t 50.51672580089513\n",
      "Sarimax\t\t 46.72218497410712\n",
      "Prophet\t\t 66.5705306874585\n",
      "Neural Prophet\t 66.95541951907765\n",
      "Multi Prophet\t 66.5705306874585\n"
     ]
    }
   ],
   "source": [
    "print(\"Mean\\t\\t\", (dtw(reanalysis_2016.globrad, means_2016.globrad) + dtw(reanalysis_2017.globrad, means_2017.globrad)) / 2)\n",
    "print(\"Sarimax\\t\\t\", (dtw(reanalysis_2016.globrad, sarimax_2016.globrad) + dtw(reanalysis_2017.globrad, sarimax_2017.globrad)) / 2)\n",
    "print(\"Prophet\\t\\t\", (dtw(reanalysis_2016.globrad, prophet_2016.globrad) + dtw(reanalysis_2017.globrad, prophet_2017.globrad)) / 2)\n",
    "print(\"Neural Prophet\\t\", (dtw(reanalysis_2016.globrad, neural_prophet_2016.globrad) + dtw(reanalysis_2017.globrad, neural_prophet_2017.globrad)) / 2)\n",
    "print(\"Multi Prophet\\t\", (dtw(reanalysis_2016.globrad, multi_prophet_2016.globrad)+ dtw(reanalysis_2017.globrad, multi_prophet_2017.globrad)) / 2)"
   ]
  },
  {
   "cell_type": "markdown",
   "id": "d2e3a43f",
   "metadata": {},
   "source": [
    "### PRECIP"
   ]
  },
  {
   "cell_type": "code",
   "execution_count": 42,
   "id": "81ac4a3b",
   "metadata": {
    "scrolled": false
   },
   "outputs": [
    {
     "name": "stdout",
     "output_type": "stream",
     "text": [
      "Mean\t\t 64.77748887876783\n",
      "Sarimax\t\t 68.02419643835785\n",
      "Prophet\t\t 80.34112185890694\n",
      "Neural Prophet\t 80.06706681278106\n",
      "Multi Prophet\t 80.34112185890694\n"
     ]
    }
   ],
   "source": [
    "print(\"Mean\\t\\t\", (dtw(reanalysis_2016.precip, means_2016.precip) + dtw(reanalysis_2017.precip, means_2017.precip)) / 2)\n",
    "print(\"Sarimax\\t\\t\", (dtw(reanalysis_2016.precip, sarimax_2016.precip) + dtw(reanalysis_2017.precip, sarimax_2017.precip)) / 2)\n",
    "print(\"Prophet\\t\\t\", (dtw(reanalysis_2016.precip, prophet_2016.precip) + dtw(reanalysis_2017.precip, prophet_2017.precip)) / 2)\n",
    "print(\"Neural Prophet\\t\", (dtw(reanalysis_2016.precip, neural_prophet_2016.precip) + dtw(reanalysis_2017.precip, neural_prophet_2017.precip)) / 2)\n",
    "print(\"Multi Prophet\\t\", (dtw(reanalysis_2016.precip, multi_prophet_2016.precip)+ dtw(reanalysis_2017.precip, multi_prophet_2017.precip)) / 2)"
   ]
  },
  {
   "cell_type": "markdown",
   "id": "927db976",
   "metadata": {},
   "source": [
    "### RELHUMID"
   ]
  },
  {
   "cell_type": "code",
   "execution_count": 43,
   "id": "f03ff7ec",
   "metadata": {
    "scrolled": false
   },
   "outputs": [
    {
     "name": "stdout",
     "output_type": "stream",
     "text": [
      "Mean\t\t 91.65784645889823\n",
      "Sarimax\t\t 82.04733376085937\n",
      "Prophet\t\t 154.6055960977921\n",
      "Neural Prophet\t 159.4493201659334\n",
      "Multi Prophet\t 154.9840704864871\n"
     ]
    }
   ],
   "source": [
    "print(\"Mean\\t\\t\", (dtw(reanalysis_2016.relhumid, means_2016.relhumid) + dtw(reanalysis_2017.relhumid, means_2017.relhumid)) / 2)\n",
    "print(\"Sarimax\\t\\t\", (dtw(reanalysis_2016.relhumid, sarimax_2016.relhumid) + dtw(reanalysis_2017.relhumid, sarimax_2017.relhumid)) / 2)\n",
    "print(\"Prophet\\t\\t\", (dtw(reanalysis_2016.relhumid, prophet_2016.relhumid) + dtw(reanalysis_2017.relhumid, prophet_2017.relhumid)) / 2)\n",
    "print(\"Neural Prophet\\t\", (dtw(reanalysis_2016.relhumid, neural_prophet_2016.relhumid) + dtw(reanalysis_2017.relhumid, neural_prophet_2017.relhumid)) / 2)\n",
    "print(\"Multi Prophet\\t\", (dtw(reanalysis_2016.relhumid, multi_prophet_2016.relhumid)+ dtw(reanalysis_2017.relhumid, multi_prophet_2017.relhumid)) / 2)"
   ]
  },
  {
   "cell_type": "code",
   "execution_count": null,
   "id": "d8fa7044",
   "metadata": {},
   "outputs": [],
   "source": []
  }
 ],
 "metadata": {
  "kernelspec": {
   "display_name": "Python 3 (ipykernel)",
   "language": "python",
   "name": "python3"
  },
  "language_info": {
   "codemirror_mode": {
    "name": "ipython",
    "version": 3
   },
   "file_extension": ".py",
   "mimetype": "text/x-python",
   "name": "python",
   "nbconvert_exporter": "python",
   "pygments_lexer": "ipython3",
   "version": "3.7.3"
  }
 },
 "nbformat": 4,
 "nbformat_minor": 5
}
