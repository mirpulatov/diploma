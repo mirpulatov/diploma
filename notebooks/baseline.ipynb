{
 "cells": [
  {
   "cell_type": "code",
   "execution_count": 1,
   "id": "9ecc90a8",
   "metadata": {},
   "outputs": [],
   "source": [
    "import numpy as np\n",
    "import pandas as pd\n",
    "import matplotlib.pyplot as plt"
   ]
  },
  {
   "cell_type": "markdown",
   "id": "f9318099",
   "metadata": {},
   "source": [
    "# Mean 2016"
   ]
  },
  {
   "cell_type": "code",
   "execution_count": 3,
   "id": "448022f5",
   "metadata": {},
   "outputs": [],
   "source": [
    "df = pd.read_csv('../monica/monica_weather_2010-2015.csv')\n",
    "df['date'] = pd.to_datetime(df['de-date'], format='%d.%m.%Y')"
   ]
  },
  {
   "cell_type": "code",
   "execution_count": 5,
   "id": "4c1b7387",
   "metadata": {},
   "outputs": [],
   "source": [
    "df.set_index('date', inplace=True)\n",
    "df = df.asfreq('d')"
   ]
  },
  {
   "cell_type": "code",
   "execution_count": 7,
   "id": "78526e51",
   "metadata": {},
   "outputs": [
    {
     "data": {
      "text/plain": [
       "Index(['de-date', 'tavg', 'tmin', 'tmax', 'wind', 'globrad', 'precip',\n",
       "       'relhumid'],\n",
       "      dtype='object')"
      ]
     },
     "execution_count": 7,
     "metadata": {},
     "output_type": "execute_result"
    }
   ],
   "source": [
    "df.columns"
   ]
  },
  {
   "cell_type": "code",
   "execution_count": 8,
   "id": "05baa5f6",
   "metadata": {},
   "outputs": [],
   "source": [
    "means = df.groupby(by=[df.index.month, df.index.day]).mean()"
   ]
  },
  {
   "cell_type": "code",
   "execution_count": 11,
   "id": "0adbde62",
   "metadata": {},
   "outputs": [],
   "source": [
    "test = pd.read_csv('../monica/reanalysis_2016.csv')"
   ]
  },
  {
   "cell_type": "code",
   "execution_count": 16,
   "id": "50b25345",
   "metadata": {},
   "outputs": [
    {
     "data": {
      "text/plain": [
       "Index(['de-date', 'tavg', 'tmin', 'tmax', 'wind', 'globrad', 'precip',\n",
       "       'relhumid'],\n",
       "      dtype='object')"
      ]
     },
     "execution_count": 16,
     "metadata": {},
     "output_type": "execute_result"
    }
   ],
   "source": [
    "test.columns"
   ]
  },
  {
   "cell_type": "code",
   "execution_count": 17,
   "id": "e9d951c9",
   "metadata": {},
   "outputs": [],
   "source": [
    "means['de-date'] = test['de-date'].values"
   ]
  },
  {
   "cell_type": "code",
   "execution_count": 18,
   "id": "f5f7ba31",
   "metadata": {},
   "outputs": [
    {
     "data": {
      "text/html": [
       "<div>\n",
       "<style scoped>\n",
       "    .dataframe tbody tr th:only-of-type {\n",
       "        vertical-align: middle;\n",
       "    }\n",
       "\n",
       "    .dataframe tbody tr th {\n",
       "        vertical-align: top;\n",
       "    }\n",
       "\n",
       "    .dataframe thead th {\n",
       "        text-align: right;\n",
       "    }\n",
       "</style>\n",
       "<table border=\"1\" class=\"dataframe\">\n",
       "  <thead>\n",
       "    <tr style=\"text-align: right;\">\n",
       "      <th></th>\n",
       "      <th></th>\n",
       "      <th>tavg</th>\n",
       "      <th>tmin</th>\n",
       "      <th>tmax</th>\n",
       "      <th>wind</th>\n",
       "      <th>globrad</th>\n",
       "      <th>precip</th>\n",
       "      <th>relhumid</th>\n",
       "      <th>de-date</th>\n",
       "    </tr>\n",
       "    <tr>\n",
       "      <th>date</th>\n",
       "      <th>date</th>\n",
       "      <th></th>\n",
       "      <th></th>\n",
       "      <th></th>\n",
       "      <th></th>\n",
       "      <th></th>\n",
       "      <th></th>\n",
       "      <th></th>\n",
       "      <th></th>\n",
       "    </tr>\n",
       "  </thead>\n",
       "  <tbody>\n",
       "    <tr>\n",
       "      <th rowspan=\"5\" valign=\"top\">1</th>\n",
       "      <th>1</th>\n",
       "      <td>-7.260000</td>\n",
       "      <td>-9.793333</td>\n",
       "      <td>-4.828333</td>\n",
       "      <td>2.795000</td>\n",
       "      <td>2.503333</td>\n",
       "      <td>1.136667</td>\n",
       "      <td>97.366667</td>\n",
       "      <td>01.01.2016</td>\n",
       "    </tr>\n",
       "    <tr>\n",
       "      <th>2</th>\n",
       "      <td>-5.855000</td>\n",
       "      <td>-8.438333</td>\n",
       "      <td>-3.678333</td>\n",
       "      <td>4.471667</td>\n",
       "      <td>2.453333</td>\n",
       "      <td>2.831667</td>\n",
       "      <td>97.250000</td>\n",
       "      <td>02.01.2016</td>\n",
       "    </tr>\n",
       "    <tr>\n",
       "      <th>3</th>\n",
       "      <td>-6.938333</td>\n",
       "      <td>-10.373333</td>\n",
       "      <td>-3.995000</td>\n",
       "      <td>3.745000</td>\n",
       "      <td>2.808333</td>\n",
       "      <td>2.341667</td>\n",
       "      <td>96.188333</td>\n",
       "      <td>03.01.2016</td>\n",
       "    </tr>\n",
       "    <tr>\n",
       "      <th>4</th>\n",
       "      <td>-8.020000</td>\n",
       "      <td>-10.708333</td>\n",
       "      <td>-5.373333</td>\n",
       "      <td>3.575000</td>\n",
       "      <td>2.366667</td>\n",
       "      <td>0.975000</td>\n",
       "      <td>97.426667</td>\n",
       "      <td>04.01.2016</td>\n",
       "    </tr>\n",
       "    <tr>\n",
       "      <th>5</th>\n",
       "      <td>-8.545000</td>\n",
       "      <td>-11.668333</td>\n",
       "      <td>-5.985000</td>\n",
       "      <td>2.990000</td>\n",
       "      <td>2.708333</td>\n",
       "      <td>1.920000</td>\n",
       "      <td>97.571667</td>\n",
       "      <td>05.01.2016</td>\n",
       "    </tr>\n",
       "    <tr>\n",
       "      <th>...</th>\n",
       "      <th>...</th>\n",
       "      <td>...</td>\n",
       "      <td>...</td>\n",
       "      <td>...</td>\n",
       "      <td>...</td>\n",
       "      <td>...</td>\n",
       "      <td>...</td>\n",
       "      <td>...</td>\n",
       "      <td>...</td>\n",
       "    </tr>\n",
       "    <tr>\n",
       "      <th rowspan=\"5\" valign=\"top\">12</th>\n",
       "      <th>27</th>\n",
       "      <td>-3.430000</td>\n",
       "      <td>-5.873333</td>\n",
       "      <td>-1.590000</td>\n",
       "      <td>4.141667</td>\n",
       "      <td>2.188333</td>\n",
       "      <td>1.596667</td>\n",
       "      <td>93.416667</td>\n",
       "      <td>27.12.2016</td>\n",
       "    </tr>\n",
       "    <tr>\n",
       "      <th>28</th>\n",
       "      <td>-4.550000</td>\n",
       "      <td>-7.730000</td>\n",
       "      <td>-2.621667</td>\n",
       "      <td>4.506667</td>\n",
       "      <td>2.005000</td>\n",
       "      <td>3.305000</td>\n",
       "      <td>93.145000</td>\n",
       "      <td>28.12.2016</td>\n",
       "    </tr>\n",
       "    <tr>\n",
       "      <th>29</th>\n",
       "      <td>-7.995000</td>\n",
       "      <td>-11.798333</td>\n",
       "      <td>-4.516667</td>\n",
       "      <td>3.468333</td>\n",
       "      <td>2.571667</td>\n",
       "      <td>0.590000</td>\n",
       "      <td>96.125000</td>\n",
       "      <td>29.12.2016</td>\n",
       "    </tr>\n",
       "    <tr>\n",
       "      <th>30</th>\n",
       "      <td>-9.140000</td>\n",
       "      <td>-11.845000</td>\n",
       "      <td>-6.596667</td>\n",
       "      <td>3.765000</td>\n",
       "      <td>2.321667</td>\n",
       "      <td>1.393333</td>\n",
       "      <td>94.385000</td>\n",
       "      <td>30.12.2016</td>\n",
       "    </tr>\n",
       "    <tr>\n",
       "      <th>31</th>\n",
       "      <td>-8.801667</td>\n",
       "      <td>-11.748333</td>\n",
       "      <td>-6.090000</td>\n",
       "      <td>3.160000</td>\n",
       "      <td>2.993333</td>\n",
       "      <td>0.736667</td>\n",
       "      <td>93.970000</td>\n",
       "      <td>31.12.2016</td>\n",
       "    </tr>\n",
       "  </tbody>\n",
       "</table>\n",
       "<p>366 rows × 8 columns</p>\n",
       "</div>"
      ],
      "text/plain": [
       "               tavg       tmin      tmax      wind   globrad    precip  \\\n",
       "date date                                                                \n",
       "1    1    -7.260000  -9.793333 -4.828333  2.795000  2.503333  1.136667   \n",
       "     2    -5.855000  -8.438333 -3.678333  4.471667  2.453333  2.831667   \n",
       "     3    -6.938333 -10.373333 -3.995000  3.745000  2.808333  2.341667   \n",
       "     4    -8.020000 -10.708333 -5.373333  3.575000  2.366667  0.975000   \n",
       "     5    -8.545000 -11.668333 -5.985000  2.990000  2.708333  1.920000   \n",
       "...             ...        ...       ...       ...       ...       ...   \n",
       "12   27   -3.430000  -5.873333 -1.590000  4.141667  2.188333  1.596667   \n",
       "     28   -4.550000  -7.730000 -2.621667  4.506667  2.005000  3.305000   \n",
       "     29   -7.995000 -11.798333 -4.516667  3.468333  2.571667  0.590000   \n",
       "     30   -9.140000 -11.845000 -6.596667  3.765000  2.321667  1.393333   \n",
       "     31   -8.801667 -11.748333 -6.090000  3.160000  2.993333  0.736667   \n",
       "\n",
       "            relhumid     de-date  \n",
       "date date                         \n",
       "1    1     97.366667  01.01.2016  \n",
       "     2     97.250000  02.01.2016  \n",
       "     3     96.188333  03.01.2016  \n",
       "     4     97.426667  04.01.2016  \n",
       "     5     97.571667  05.01.2016  \n",
       "...              ...         ...  \n",
       "12   27    93.416667  27.12.2016  \n",
       "     28    93.145000  28.12.2016  \n",
       "     29    96.125000  29.12.2016  \n",
       "     30    94.385000  30.12.2016  \n",
       "     31    93.970000  31.12.2016  \n",
       "\n",
       "[366 rows x 8 columns]"
      ]
     },
     "execution_count": 18,
     "metadata": {},
     "output_type": "execute_result"
    }
   ],
   "source": [
    "means"
   ]
  },
  {
   "cell_type": "code",
   "execution_count": 19,
   "id": "42ac66ae",
   "metadata": {},
   "outputs": [],
   "source": [
    "means.to_csv('../monica/means_2016.csv', index=False)"
   ]
  },
  {
   "cell_type": "markdown",
   "id": "2244ab99",
   "metadata": {},
   "source": [
    "# Mean 2017"
   ]
  },
  {
   "cell_type": "code",
   "execution_count": 20,
   "id": "f5814fb0",
   "metadata": {},
   "outputs": [],
   "source": [
    "df = pd.read_csv('../monica/monica_weather_2011-2016.csv')\n",
    "df['date'] = pd.to_datetime(df['de-date'], format='%d.%m.%Y')"
   ]
  },
  {
   "cell_type": "code",
   "execution_count": 21,
   "id": "85c1b39e",
   "metadata": {},
   "outputs": [],
   "source": [
    "df.set_index('date', inplace=True)\n",
    "df = df.asfreq('d')"
   ]
  },
  {
   "cell_type": "code",
   "execution_count": 22,
   "id": "9a454b57",
   "metadata": {},
   "outputs": [
    {
     "data": {
      "text/plain": [
       "Index(['de-date', 'tavg', 'tmin', 'tmax', 'wind', 'globrad', 'precip',\n",
       "       'relhumid'],\n",
       "      dtype='object')"
      ]
     },
     "execution_count": 22,
     "metadata": {},
     "output_type": "execute_result"
    }
   ],
   "source": [
    "df.columns"
   ]
  },
  {
   "cell_type": "code",
   "execution_count": 29,
   "id": "ba791042",
   "metadata": {},
   "outputs": [],
   "source": [
    "means = df.groupby(by=[df.index.month, df.index.day]).mean()"
   ]
  },
  {
   "cell_type": "code",
   "execution_count": 30,
   "id": "97c84aac",
   "metadata": {},
   "outputs": [],
   "source": [
    "test = pd.read_csv('../monica/reanalysis_2017.csv')"
   ]
  },
  {
   "cell_type": "code",
   "execution_count": 31,
   "id": "25ce4e76",
   "metadata": {},
   "outputs": [],
   "source": [
    "means = means[means.index != (2, 29)].copy()"
   ]
  },
  {
   "cell_type": "code",
   "execution_count": 32,
   "id": "d350b5b7",
   "metadata": {},
   "outputs": [],
   "source": [
    "means['de-date'] = test['de-date'].values"
   ]
  },
  {
   "cell_type": "code",
   "execution_count": 33,
   "id": "f1e1433e",
   "metadata": {},
   "outputs": [
    {
     "data": {
      "text/html": [
       "<div>\n",
       "<style scoped>\n",
       "    .dataframe tbody tr th:only-of-type {\n",
       "        vertical-align: middle;\n",
       "    }\n",
       "\n",
       "    .dataframe tbody tr th {\n",
       "        vertical-align: top;\n",
       "    }\n",
       "\n",
       "    .dataframe thead th {\n",
       "        text-align: right;\n",
       "    }\n",
       "</style>\n",
       "<table border=\"1\" class=\"dataframe\">\n",
       "  <thead>\n",
       "    <tr style=\"text-align: right;\">\n",
       "      <th></th>\n",
       "      <th></th>\n",
       "      <th>tavg</th>\n",
       "      <th>tmin</th>\n",
       "      <th>tmax</th>\n",
       "      <th>wind</th>\n",
       "      <th>globrad</th>\n",
       "      <th>precip</th>\n",
       "      <th>relhumid</th>\n",
       "      <th>de-date</th>\n",
       "    </tr>\n",
       "    <tr>\n",
       "      <th>date</th>\n",
       "      <th>date</th>\n",
       "      <th></th>\n",
       "      <th></th>\n",
       "      <th></th>\n",
       "      <th></th>\n",
       "      <th></th>\n",
       "      <th></th>\n",
       "      <th></th>\n",
       "      <th></th>\n",
       "    </tr>\n",
       "  </thead>\n",
       "  <tbody>\n",
       "    <tr>\n",
       "      <th rowspan=\"5\" valign=\"top\">1</th>\n",
       "      <th>1</th>\n",
       "      <td>-7.076667</td>\n",
       "      <td>-9.125000</td>\n",
       "      <td>-5.056667</td>\n",
       "      <td>2.988333</td>\n",
       "      <td>2.350000</td>\n",
       "      <td>1.226667</td>\n",
       "      <td>93.866667</td>\n",
       "      <td>01.01.2017</td>\n",
       "    </tr>\n",
       "    <tr>\n",
       "      <th>2</th>\n",
       "      <td>-6.165000</td>\n",
       "      <td>-8.266667</td>\n",
       "      <td>-4.241667</td>\n",
       "      <td>4.038333</td>\n",
       "      <td>2.476667</td>\n",
       "      <td>0.703333</td>\n",
       "      <td>94.625000</td>\n",
       "      <td>02.01.2017</td>\n",
       "    </tr>\n",
       "    <tr>\n",
       "      <th>3</th>\n",
       "      <td>-7.025000</td>\n",
       "      <td>-10.096667</td>\n",
       "      <td>-4.553333</td>\n",
       "      <td>3.541667</td>\n",
       "      <td>2.600000</td>\n",
       "      <td>2.238333</td>\n",
       "      <td>94.335000</td>\n",
       "      <td>03.01.2017</td>\n",
       "    </tr>\n",
       "    <tr>\n",
       "      <th>4</th>\n",
       "      <td>-6.830000</td>\n",
       "      <td>-8.945000</td>\n",
       "      <td>-5.158333</td>\n",
       "      <td>4.048333</td>\n",
       "      <td>2.105000</td>\n",
       "      <td>1.240000</td>\n",
       "      <td>95.291667</td>\n",
       "      <td>04.01.2017</td>\n",
       "    </tr>\n",
       "    <tr>\n",
       "      <th>5</th>\n",
       "      <td>-6.978333</td>\n",
       "      <td>-9.685000</td>\n",
       "      <td>-4.683333</td>\n",
       "      <td>3.263333</td>\n",
       "      <td>2.458333</td>\n",
       "      <td>1.960000</td>\n",
       "      <td>96.135000</td>\n",
       "      <td>05.01.2017</td>\n",
       "    </tr>\n",
       "    <tr>\n",
       "      <th>...</th>\n",
       "      <th>...</th>\n",
       "      <td>...</td>\n",
       "      <td>...</td>\n",
       "      <td>...</td>\n",
       "      <td>...</td>\n",
       "      <td>...</td>\n",
       "      <td>...</td>\n",
       "      <td>...</td>\n",
       "      <td>...</td>\n",
       "    </tr>\n",
       "    <tr>\n",
       "      <th rowspan=\"5\" valign=\"top\">12</th>\n",
       "      <th>27</th>\n",
       "      <td>-3.486667</td>\n",
       "      <td>-5.705000</td>\n",
       "      <td>-1.705000</td>\n",
       "      <td>4.506667</td>\n",
       "      <td>2.403333</td>\n",
       "      <td>2.110000</td>\n",
       "      <td>93.426667</td>\n",
       "      <td>27.12.2017</td>\n",
       "    </tr>\n",
       "    <tr>\n",
       "      <th>28</th>\n",
       "      <td>-4.356667</td>\n",
       "      <td>-7.371667</td>\n",
       "      <td>-2.401667</td>\n",
       "      <td>4.421667</td>\n",
       "      <td>2.328333</td>\n",
       "      <td>2.305000</td>\n",
       "      <td>93.365000</td>\n",
       "      <td>28.12.2017</td>\n",
       "    </tr>\n",
       "    <tr>\n",
       "      <th>29</th>\n",
       "      <td>-8.386667</td>\n",
       "      <td>-12.208333</td>\n",
       "      <td>-5.153333</td>\n",
       "      <td>3.563333</td>\n",
       "      <td>2.720000</td>\n",
       "      <td>0.225000</td>\n",
       "      <td>95.990000</td>\n",
       "      <td>29.12.2017</td>\n",
       "    </tr>\n",
       "    <tr>\n",
       "      <th>30</th>\n",
       "      <td>-9.133333</td>\n",
       "      <td>-11.965000</td>\n",
       "      <td>-6.448333</td>\n",
       "      <td>3.915000</td>\n",
       "      <td>2.615000</td>\n",
       "      <td>1.338333</td>\n",
       "      <td>94.686667</td>\n",
       "      <td>30.12.2017</td>\n",
       "    </tr>\n",
       "    <tr>\n",
       "      <th>31</th>\n",
       "      <td>-8.541667</td>\n",
       "      <td>-11.573333</td>\n",
       "      <td>-5.866667</td>\n",
       "      <td>3.143333</td>\n",
       "      <td>2.935000</td>\n",
       "      <td>0.680000</td>\n",
       "      <td>93.928333</td>\n",
       "      <td>31.12.2017</td>\n",
       "    </tr>\n",
       "  </tbody>\n",
       "</table>\n",
       "<p>365 rows × 8 columns</p>\n",
       "</div>"
      ],
      "text/plain": [
       "               tavg       tmin      tmax      wind   globrad    precip  \\\n",
       "date date                                                                \n",
       "1    1    -7.076667  -9.125000 -5.056667  2.988333  2.350000  1.226667   \n",
       "     2    -6.165000  -8.266667 -4.241667  4.038333  2.476667  0.703333   \n",
       "     3    -7.025000 -10.096667 -4.553333  3.541667  2.600000  2.238333   \n",
       "     4    -6.830000  -8.945000 -5.158333  4.048333  2.105000  1.240000   \n",
       "     5    -6.978333  -9.685000 -4.683333  3.263333  2.458333  1.960000   \n",
       "...             ...        ...       ...       ...       ...       ...   \n",
       "12   27   -3.486667  -5.705000 -1.705000  4.506667  2.403333  2.110000   \n",
       "     28   -4.356667  -7.371667 -2.401667  4.421667  2.328333  2.305000   \n",
       "     29   -8.386667 -12.208333 -5.153333  3.563333  2.720000  0.225000   \n",
       "     30   -9.133333 -11.965000 -6.448333  3.915000  2.615000  1.338333   \n",
       "     31   -8.541667 -11.573333 -5.866667  3.143333  2.935000  0.680000   \n",
       "\n",
       "            relhumid     de-date  \n",
       "date date                         \n",
       "1    1     93.866667  01.01.2017  \n",
       "     2     94.625000  02.01.2017  \n",
       "     3     94.335000  03.01.2017  \n",
       "     4     95.291667  04.01.2017  \n",
       "     5     96.135000  05.01.2017  \n",
       "...              ...         ...  \n",
       "12   27    93.426667  27.12.2017  \n",
       "     28    93.365000  28.12.2017  \n",
       "     29    95.990000  29.12.2017  \n",
       "     30    94.686667  30.12.2017  \n",
       "     31    93.928333  31.12.2017  \n",
       "\n",
       "[365 rows x 8 columns]"
      ]
     },
     "execution_count": 33,
     "metadata": {},
     "output_type": "execute_result"
    }
   ],
   "source": [
    "means"
   ]
  },
  {
   "cell_type": "code",
   "execution_count": 34,
   "id": "bfeb1ce6",
   "metadata": {},
   "outputs": [],
   "source": [
    "means.to_csv('../monica/means_2017.csv', index=False)"
   ]
  }
 ],
 "metadata": {
  "kernelspec": {
   "display_name": "Python 3 (ipykernel)",
   "language": "python",
   "name": "python3"
  },
  "language_info": {
   "codemirror_mode": {
    "name": "ipython",
    "version": 3
   },
   "file_extension": ".py",
   "mimetype": "text/x-python",
   "name": "python",
   "nbconvert_exporter": "python",
   "pygments_lexer": "ipython3",
   "version": "3.7.3"
  }
 },
 "nbformat": 4,
 "nbformat_minor": 5
}
