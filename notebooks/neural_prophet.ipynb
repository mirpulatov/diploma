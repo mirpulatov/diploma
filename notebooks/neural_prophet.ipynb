{
 "cells": [
  {
   "cell_type": "code",
   "execution_count": 2,
   "id": "5e502061",
   "metadata": {},
   "outputs": [],
   "source": [
    "import os\n",
    "import logging\n",
    "import numpy as np\n",
    "import pandas as pd\n",
    "import matplotlib.pyplot as plt"
   ]
  },
  {
   "cell_type": "code",
   "execution_count": 3,
   "id": "3ba876bb",
   "metadata": {},
   "outputs": [],
   "source": [
    "from neuralprophet import NeuralProphet"
   ]
  },
  {
   "cell_type": "code",
   "execution_count": 27,
   "id": "0044aeaa",
   "metadata": {},
   "outputs": [],
   "source": [
    "df = pd.read_csv('../monica/monica_weather_2010-2015.csv')\n",
    "df['date'] = pd.to_datetime(df['de-date'], format='%d.%m.%Y')"
   ]
  },
  {
   "cell_type": "code",
   "execution_count": 28,
   "id": "57595911",
   "metadata": {},
   "outputs": [
    {
     "data": {
      "text/html": [
       "<div>\n",
       "<style scoped>\n",
       "    .dataframe tbody tr th:only-of-type {\n",
       "        vertical-align: middle;\n",
       "    }\n",
       "\n",
       "    .dataframe tbody tr th {\n",
       "        vertical-align: top;\n",
       "    }\n",
       "\n",
       "    .dataframe thead th {\n",
       "        text-align: right;\n",
       "    }\n",
       "</style>\n",
       "<table border=\"1\" class=\"dataframe\">\n",
       "  <thead>\n",
       "    <tr style=\"text-align: right;\">\n",
       "      <th></th>\n",
       "      <th>de-date</th>\n",
       "      <th>tavg</th>\n",
       "      <th>tmin</th>\n",
       "      <th>tmax</th>\n",
       "      <th>wind</th>\n",
       "      <th>globrad</th>\n",
       "      <th>precip</th>\n",
       "      <th>relhumid</th>\n",
       "      <th>date</th>\n",
       "    </tr>\n",
       "  </thead>\n",
       "  <tbody>\n",
       "    <tr>\n",
       "      <th>0</th>\n",
       "      <td>01.01.2010</td>\n",
       "      <td>-13.45</td>\n",
       "      <td>-16.90</td>\n",
       "      <td>-9.87</td>\n",
       "      <td>3.59</td>\n",
       "      <td>4.28</td>\n",
       "      <td>0.46</td>\n",
       "      <td>98.69</td>\n",
       "      <td>2010-01-01</td>\n",
       "    </tr>\n",
       "    <tr>\n",
       "      <th>1</th>\n",
       "      <td>02.01.2010</td>\n",
       "      <td>-12.20</td>\n",
       "      <td>-17.01</td>\n",
       "      <td>-9.67</td>\n",
       "      <td>5.90</td>\n",
       "      <td>3.14</td>\n",
       "      <td>13.62</td>\n",
       "      <td>97.81</td>\n",
       "      <td>2010-01-02</td>\n",
       "    </tr>\n",
       "    <tr>\n",
       "      <th>2</th>\n",
       "      <td>03.01.2010</td>\n",
       "      <td>-15.08</td>\n",
       "      <td>-19.18</td>\n",
       "      <td>-10.87</td>\n",
       "      <td>4.97</td>\n",
       "      <td>4.75</td>\n",
       "      <td>0.91</td>\n",
       "      <td>94.81</td>\n",
       "      <td>2010-01-03</td>\n",
       "    </tr>\n",
       "    <tr>\n",
       "      <th>3</th>\n",
       "      <td>04.01.2010</td>\n",
       "      <td>-21.94</td>\n",
       "      <td>-25.72</td>\n",
       "      <td>-15.77</td>\n",
       "      <td>1.91</td>\n",
       "      <td>4.99</td>\n",
       "      <td>0.04</td>\n",
       "      <td>98.00</td>\n",
       "      <td>2010-01-04</td>\n",
       "    </tr>\n",
       "    <tr>\n",
       "      <th>4</th>\n",
       "      <td>05.01.2010</td>\n",
       "      <td>-23.64</td>\n",
       "      <td>-27.50</td>\n",
       "      <td>-20.10</td>\n",
       "      <td>1.66</td>\n",
       "      <td>4.66</td>\n",
       "      <td>0.04</td>\n",
       "      <td>98.12</td>\n",
       "      <td>2010-01-05</td>\n",
       "    </tr>\n",
       "  </tbody>\n",
       "</table>\n",
       "</div>"
      ],
      "text/plain": [
       "      de-date   tavg   tmin   tmax  wind  globrad  precip  relhumid       date\n",
       "0  01.01.2010 -13.45 -16.90  -9.87  3.59     4.28    0.46     98.69 2010-01-01\n",
       "1  02.01.2010 -12.20 -17.01  -9.67  5.90     3.14   13.62     97.81 2010-01-02\n",
       "2  03.01.2010 -15.08 -19.18 -10.87  4.97     4.75    0.91     94.81 2010-01-03\n",
       "3  04.01.2010 -21.94 -25.72 -15.77  1.91     4.99    0.04     98.00 2010-01-04\n",
       "4  05.01.2010 -23.64 -27.50 -20.10  1.66     4.66    0.04     98.12 2010-01-05"
      ]
     },
     "execution_count": 28,
     "metadata": {},
     "output_type": "execute_result"
    }
   ],
   "source": [
    "df.head()"
   ]
  },
  {
   "cell_type": "code",
   "execution_count": 29,
   "id": "9fe9cfb2",
   "metadata": {},
   "outputs": [],
   "source": [
    "def train_prophet(col):\n",
    "    df_ = df[['date', f'{col}']].copy()\n",
    "    df_ = df_.rename(columns={\"date\": \"ds\", f'{col}': \"y\"})\n",
    "\n",
    "    model = NeuralProphet()\n",
    "    model.fit(df_, freq=\"D\")\n",
    "    future = model.make_future_dataframe(df_, periods=366, n_historic_predictions=0)\n",
    "    forecast = model.predict(future)\n",
    "    print(forecast.head())\n",
    "    \n",
    "    return forecast.yhat1.to_numpy()"
   ]
  },
  {
   "cell_type": "code",
   "execution_count": 30,
   "id": "b376e93e",
   "metadata": {},
   "outputs": [],
   "source": [
    "cols = ['tavg', 'tmin', 'tmax', 'wind', 'globrad', 'precip','relhumid']"
   ]
  },
  {
   "cell_type": "code",
   "execution_count": 31,
   "id": "1a1c4d1e",
   "metadata": {},
   "outputs": [],
   "source": [
    "test = pd.read_csv('../monica/reanalysis_2016.csv')"
   ]
  },
  {
   "cell_type": "code",
   "execution_count": 32,
   "id": "af4c8a8a",
   "metadata": {},
   "outputs": [
    {
     "data": {
      "text/html": [
       "<div>\n",
       "<style scoped>\n",
       "    .dataframe tbody tr th:only-of-type {\n",
       "        vertical-align: middle;\n",
       "    }\n",
       "\n",
       "    .dataframe tbody tr th {\n",
       "        vertical-align: top;\n",
       "    }\n",
       "\n",
       "    .dataframe thead th {\n",
       "        text-align: right;\n",
       "    }\n",
       "</style>\n",
       "<table border=\"1\" class=\"dataframe\">\n",
       "  <thead>\n",
       "    <tr style=\"text-align: right;\">\n",
       "      <th></th>\n",
       "      <th>de-date</th>\n",
       "      <th>tavg</th>\n",
       "      <th>tmin</th>\n",
       "      <th>tmax</th>\n",
       "      <th>wind</th>\n",
       "      <th>globrad</th>\n",
       "      <th>precip</th>\n",
       "      <th>relhumid</th>\n",
       "    </tr>\n",
       "  </thead>\n",
       "  <tbody>\n",
       "    <tr>\n",
       "      <th>0</th>\n",
       "      <td>01.01.2016</td>\n",
       "      <td>-12.35</td>\n",
       "      <td>-12.89</td>\n",
       "      <td>-11.24</td>\n",
       "      <td>4.75</td>\n",
       "      <td>3.36</td>\n",
       "      <td>1.00</td>\n",
       "      <td>77.69</td>\n",
       "    </tr>\n",
       "    <tr>\n",
       "      <th>1</th>\n",
       "      <td>02.01.2016</td>\n",
       "      <td>-14.06</td>\n",
       "      <td>-15.98</td>\n",
       "      <td>-13.05</td>\n",
       "      <td>3.30</td>\n",
       "      <td>3.28</td>\n",
       "      <td>0.85</td>\n",
       "      <td>82.06</td>\n",
       "    </tr>\n",
       "    <tr>\n",
       "      <th>2</th>\n",
       "      <td>03.01.2016</td>\n",
       "      <td>-15.60</td>\n",
       "      <td>-17.52</td>\n",
       "      <td>-14.22</td>\n",
       "      <td>3.75</td>\n",
       "      <td>3.50</td>\n",
       "      <td>0.29</td>\n",
       "      <td>83.69</td>\n",
       "    </tr>\n",
       "    <tr>\n",
       "      <th>3</th>\n",
       "      <td>04.01.2016</td>\n",
       "      <td>-14.80</td>\n",
       "      <td>-15.14</td>\n",
       "      <td>-14.48</td>\n",
       "      <td>4.75</td>\n",
       "      <td>3.42</td>\n",
       "      <td>1.63</td>\n",
       "      <td>85.19</td>\n",
       "    </tr>\n",
       "    <tr>\n",
       "      <th>4</th>\n",
       "      <td>05.01.2016</td>\n",
       "      <td>-14.24</td>\n",
       "      <td>-15.60</td>\n",
       "      <td>-12.29</td>\n",
       "      <td>3.30</td>\n",
       "      <td>3.16</td>\n",
       "      <td>0.28</td>\n",
       "      <td>89.50</td>\n",
       "    </tr>\n",
       "  </tbody>\n",
       "</table>\n",
       "</div>"
      ],
      "text/plain": [
       "      de-date   tavg   tmin   tmax  wind  globrad  precip  relhumid\n",
       "0  01.01.2016 -12.35 -12.89 -11.24  4.75     3.36    1.00     77.69\n",
       "1  02.01.2016 -14.06 -15.98 -13.05  3.30     3.28    0.85     82.06\n",
       "2  03.01.2016 -15.60 -17.52 -14.22  3.75     3.50    0.29     83.69\n",
       "3  04.01.2016 -14.80 -15.14 -14.48  4.75     3.42    1.63     85.19\n",
       "4  05.01.2016 -14.24 -15.60 -12.29  3.30     3.16    0.28     89.50"
      ]
     },
     "execution_count": 32,
     "metadata": {},
     "output_type": "execute_result"
    }
   ],
   "source": [
    "test.head()"
   ]
  },
  {
   "cell_type": "code",
   "execution_count": 33,
   "id": "dcc77771",
   "metadata": {
    "scrolled": false
   },
   "outputs": [
    {
     "name": "stderr",
     "output_type": "stream",
     "text": [
      "WARNING - (NP.forecaster.fit) - When Global modeling with local normalization, metrics are displayed in normalized scale.\n",
      "INFO - (NP.df_utils._infer_frequency) - Major frequency D corresponds to 99.954% of the data.\n",
      "INFO - (NP.df_utils._infer_frequency) - Defined frequency is equal to major frequency - D\n",
      "INFO - (NP.config.init_data_params) - Setting normalization to global as only one dataframe provided for training.\n",
      "INFO - (NP.utils.set_auto_seasonalities) - Disabling daily seasonality. Run NeuralProphet with daily_seasonality=True to override this.\n",
      "INFO - (NP.config.set_auto_batch_epoch) - Auto-set batch_size to 32\n",
      "INFO - (NP.config.set_auto_batch_epoch) - Auto-set epochs to 154\n",
      "WARNING - (NP.config.set_lr_finder_args) - Learning rate finder: The number of batches (69) is too small than the required number for the learning rate finder (234). The results might not be optimal.\n"
     ]
    },
    {
     "data": {
      "application/vnd.jupyter.widget-view+json": {
       "model_id": "02ff296196164f54a73527e8e7fad90d",
       "version_major": 2,
       "version_minor": 0
      },
      "text/plain": [
       "Finding best initial lr:   0%|          | 0/234 [00:00<?, ?it/s]"
      ]
     },
     "metadata": {},
     "output_type": "display_data"
    },
    {
     "data": {
      "application/vnd.jupyter.widget-view+json": {
       "model_id": "59d62aadeef34d21b32b335fc1053dd4",
       "version_major": 2,
       "version_minor": 0
      },
      "text/plain": [
       "Training: 0it [00:00, ?it/s]"
      ]
     },
     "metadata": {},
     "output_type": "display_data"
    },
    {
     "name": "stderr",
     "output_type": "stream",
     "text": [
      "INFO - (NP.df_utils._infer_frequency) - Major frequency D corresponds to 99.954% of the data.\n",
      "INFO - (NP.df_utils._infer_frequency) - Defined frequency is equal to major frequency - D\n",
      "INFO - (NP.df_utils.return_df_in_original_format) - Returning df with no ID column\n",
      "INFO - (NP.df_utils._infer_frequency) - Major frequency D corresponds to 99.727% of the data.\n",
      "INFO - (NP.df_utils._infer_frequency) - Defined frequency is equal to major frequency - D\n",
      "INFO - (NP.df_utils._infer_frequency) - Major frequency D corresponds to 99.727% of the data.\n",
      "INFO - (NP.df_utils._infer_frequency) - Defined frequency is equal to major frequency - D\n"
     ]
    },
    {
     "data": {
      "application/vnd.jupyter.widget-view+json": {
       "model_id": "3928d184f930457da666d124df816157",
       "version_major": 2,
       "version_minor": 0
      },
      "text/plain": [
       "Predicting: 69it [00:00, ?it/s]"
      ]
     },
     "metadata": {},
     "output_type": "display_data"
    },
    {
     "name": "stderr",
     "output_type": "stream",
     "text": [
      "INFO - (NP.df_utils.return_df_in_original_format) - Returning df with no ID column\n",
      "WARNING - (NP.forecaster.fit) - When Global modeling with local normalization, metrics are displayed in normalized scale.\n",
      "INFO - (NP.df_utils._infer_frequency) - Major frequency D corresponds to 99.954% of the data.\n",
      "INFO - (NP.df_utils._infer_frequency) - Defined frequency is equal to major frequency - D\n",
      "INFO - (NP.config.init_data_params) - Setting normalization to global as only one dataframe provided for training.\n",
      "INFO - (NP.utils.set_auto_seasonalities) - Disabling daily seasonality. Run NeuralProphet with daily_seasonality=True to override this.\n",
      "INFO - (NP.config.set_auto_batch_epoch) - Auto-set batch_size to 32\n",
      "INFO - (NP.config.set_auto_batch_epoch) - Auto-set epochs to 154\n",
      "WARNING - (NP.config.set_lr_finder_args) - Learning rate finder: The number of batches (69) is too small than the required number for the learning rate finder (234). The results might not be optimal.\n"
     ]
    },
    {
     "name": "stdout",
     "output_type": "stream",
     "text": [
      "          ds     y     yhat1     trend  season_yearly  season_weekly\n",
      "0 2016-01-01  None -6.737930  7.110521     -13.872891       0.024441\n",
      "1 2016-01-02  None -6.744740  7.111879     -14.071732       0.215115\n",
      "2 2016-01-03  None -6.896439  7.113237     -14.274903       0.265226\n",
      "3 2016-01-04  None -7.310114  7.114599     -14.481833       0.057119\n",
      "4 2016-01-05  None -7.779020  7.115957     -14.691881      -0.203097\n"
     ]
    },
    {
     "data": {
      "application/vnd.jupyter.widget-view+json": {
       "model_id": "448b8eec43824aa4a4e7147a7d54ccf8",
       "version_major": 2,
       "version_minor": 0
      },
      "text/plain": [
       "Finding best initial lr:   0%|          | 0/234 [00:00<?, ?it/s]"
      ]
     },
     "metadata": {},
     "output_type": "display_data"
    },
    {
     "data": {
      "application/vnd.jupyter.widget-view+json": {
       "model_id": "7fccfc25e310449aaac8d0a116e06196",
       "version_major": 2,
       "version_minor": 0
      },
      "text/plain": [
       "Training: 0it [00:00, ?it/s]"
      ]
     },
     "metadata": {},
     "output_type": "display_data"
    },
    {
     "name": "stderr",
     "output_type": "stream",
     "text": [
      "INFO - (NP.df_utils._infer_frequency) - Major frequency D corresponds to 99.954% of the data.\n",
      "INFO - (NP.df_utils._infer_frequency) - Defined frequency is equal to major frequency - D\n",
      "INFO - (NP.df_utils.return_df_in_original_format) - Returning df with no ID column\n",
      "INFO - (NP.df_utils._infer_frequency) - Major frequency D corresponds to 99.727% of the data.\n",
      "INFO - (NP.df_utils._infer_frequency) - Defined frequency is equal to major frequency - D\n",
      "INFO - (NP.df_utils._infer_frequency) - Major frequency D corresponds to 99.727% of the data.\n",
      "INFO - (NP.df_utils._infer_frequency) - Defined frequency is equal to major frequency - D\n"
     ]
    },
    {
     "data": {
      "application/vnd.jupyter.widget-view+json": {
       "model_id": "4f9ab46e6f094771bc6acc0fe34ce53c",
       "version_major": 2,
       "version_minor": 0
      },
      "text/plain": [
       "Predicting: 69it [00:00, ?it/s]"
      ]
     },
     "metadata": {},
     "output_type": "display_data"
    },
    {
     "name": "stderr",
     "output_type": "stream",
     "text": [
      "INFO - (NP.df_utils.return_df_in_original_format) - Returning df with no ID column\n",
      "WARNING - (NP.forecaster.fit) - When Global modeling with local normalization, metrics are displayed in normalized scale.\n",
      "INFO - (NP.df_utils._infer_frequency) - Major frequency D corresponds to 99.954% of the data.\n",
      "INFO - (NP.df_utils._infer_frequency) - Defined frequency is equal to major frequency - D\n",
      "INFO - (NP.config.init_data_params) - Setting normalization to global as only one dataframe provided for training.\n",
      "INFO - (NP.utils.set_auto_seasonalities) - Disabling daily seasonality. Run NeuralProphet with daily_seasonality=True to override this.\n"
     ]
    },
    {
     "name": "stdout",
     "output_type": "stream",
     "text": [
      "          ds     y      yhat1     trend  season_yearly  season_weekly\n",
      "0 2016-01-01  None  -9.643112  2.499554     -12.236663       0.093995\n",
      "1 2016-01-02  None  -9.739412  2.501492     -12.455749       0.214844\n",
      "2 2016-01-03  None  -9.982166  2.503429     -12.678706       0.193111\n",
      "3 2016-01-04  None -10.337343  2.505371     -12.904984       0.062268\n",
      "4 2016-01-05  None -10.828539  2.507305     -13.133952      -0.201891\n"
     ]
    },
    {
     "name": "stderr",
     "output_type": "stream",
     "text": [
      "INFO - (NP.config.set_auto_batch_epoch) - Auto-set batch_size to 32\n",
      "INFO - (NP.config.set_auto_batch_epoch) - Auto-set epochs to 154\n",
      "WARNING - (NP.config.set_lr_finder_args) - Learning rate finder: The number of batches (69) is too small than the required number for the learning rate finder (234). The results might not be optimal.\n"
     ]
    },
    {
     "data": {
      "application/vnd.jupyter.widget-view+json": {
       "model_id": "e104508d441245afa1404fb216c43a17",
       "version_major": 2,
       "version_minor": 0
      },
      "text/plain": [
       "Finding best initial lr:   0%|          | 0/234 [00:00<?, ?it/s]"
      ]
     },
     "metadata": {},
     "output_type": "display_data"
    },
    {
     "data": {
      "application/vnd.jupyter.widget-view+json": {
       "model_id": "9f79efd918ac4392aab7f70e43fa5691",
       "version_major": 2,
       "version_minor": 0
      },
      "text/plain": [
       "Training: 0it [00:00, ?it/s]"
      ]
     },
     "metadata": {},
     "output_type": "display_data"
    },
    {
     "name": "stderr",
     "output_type": "stream",
     "text": [
      "INFO - (NP.df_utils._infer_frequency) - Major frequency D corresponds to 99.954% of the data.\n",
      "INFO - (NP.df_utils._infer_frequency) - Defined frequency is equal to major frequency - D\n",
      "INFO - (NP.df_utils.return_df_in_original_format) - Returning df with no ID column\n",
      "INFO - (NP.df_utils._infer_frequency) - Major frequency D corresponds to 99.727% of the data.\n",
      "INFO - (NP.df_utils._infer_frequency) - Defined frequency is equal to major frequency - D\n",
      "INFO - (NP.df_utils._infer_frequency) - Major frequency D corresponds to 99.727% of the data.\n",
      "INFO - (NP.df_utils._infer_frequency) - Defined frequency is equal to major frequency - D\n"
     ]
    },
    {
     "data": {
      "application/vnd.jupyter.widget-view+json": {
       "model_id": "575f0af5ce204468a75816aadffa6d03",
       "version_major": 2,
       "version_minor": 0
      },
      "text/plain": [
       "Predicting: 69it [00:00, ?it/s]"
      ]
     },
     "metadata": {},
     "output_type": "display_data"
    },
    {
     "name": "stderr",
     "output_type": "stream",
     "text": [
      "INFO - (NP.df_utils.return_df_in_original_format) - Returning df with no ID column\n",
      "WARNING - (NP.forecaster.fit) - When Global modeling with local normalization, metrics are displayed in normalized scale.\n",
      "INFO - (NP.df_utils._infer_frequency) - Major frequency D corresponds to 99.954% of the data.\n",
      "INFO - (NP.df_utils._infer_frequency) - Defined frequency is equal to major frequency - D\n",
      "INFO - (NP.config.init_data_params) - Setting normalization to global as only one dataframe provided for training.\n",
      "INFO - (NP.utils.set_auto_seasonalities) - Disabling daily seasonality. Run NeuralProphet with daily_seasonality=True to override this.\n",
      "INFO - (NP.config.set_auto_batch_epoch) - Auto-set batch_size to 32\n",
      "INFO - (NP.config.set_auto_batch_epoch) - Auto-set epochs to 154\n",
      "WARNING - (NP.config.set_lr_finder_args) - Learning rate finder: The number of batches (69) is too small than the required number for the learning rate finder (234). The results might not be optimal.\n"
     ]
    },
    {
     "name": "stdout",
     "output_type": "stream",
     "text": [
      "          ds     y     yhat1      trend  season_yearly  season_weekly\n",
      "0 2016-01-01  None -4.086939  11.656324     -15.784758       0.041494\n",
      "1 2016-01-02  None -4.141705  11.656782     -15.943383       0.144898\n",
      "2 2016-01-03  None -4.175282  11.657236     -16.104961       0.272445\n",
      "3 2016-01-04  None -4.618177  11.657690     -16.269093      -0.006775\n",
      "4 2016-01-05  None -4.919888  11.658148     -16.435305      -0.142730\n"
     ]
    },
    {
     "data": {
      "application/vnd.jupyter.widget-view+json": {
       "model_id": "a53ba1645db4483695e57cf21bb411cd",
       "version_major": 2,
       "version_minor": 0
      },
      "text/plain": [
       "Finding best initial lr:   0%|          | 0/234 [00:00<?, ?it/s]"
      ]
     },
     "metadata": {},
     "output_type": "display_data"
    },
    {
     "data": {
      "application/vnd.jupyter.widget-view+json": {
       "model_id": "5a55f9b8b8994305a9243c9c6c107ae5",
       "version_major": 2,
       "version_minor": 0
      },
      "text/plain": [
       "Training: 0it [00:00, ?it/s]"
      ]
     },
     "metadata": {},
     "output_type": "display_data"
    },
    {
     "name": "stderr",
     "output_type": "stream",
     "text": [
      "INFO - (NP.df_utils._infer_frequency) - Major frequency D corresponds to 99.954% of the data.\n",
      "INFO - (NP.df_utils._infer_frequency) - Defined frequency is equal to major frequency - D\n",
      "INFO - (NP.df_utils.return_df_in_original_format) - Returning df with no ID column\n",
      "INFO - (NP.df_utils._infer_frequency) - Major frequency D corresponds to 99.727% of the data.\n",
      "INFO - (NP.df_utils._infer_frequency) - Defined frequency is equal to major frequency - D\n",
      "INFO - (NP.df_utils._infer_frequency) - Major frequency D corresponds to 99.727% of the data.\n",
      "INFO - (NP.df_utils._infer_frequency) - Defined frequency is equal to major frequency - D\n"
     ]
    },
    {
     "data": {
      "application/vnd.jupyter.widget-view+json": {
       "model_id": "97f4032a4a5a418cadbff2f1a1445cdc",
       "version_major": 2,
       "version_minor": 0
      },
      "text/plain": [
       "Predicting: 69it [00:00, ?it/s]"
      ]
     },
     "metadata": {},
     "output_type": "display_data"
    },
    {
     "name": "stderr",
     "output_type": "stream",
     "text": [
      "INFO - (NP.df_utils.return_df_in_original_format) - Returning df with no ID column\n",
      "WARNING - (NP.forecaster.fit) - When Global modeling with local normalization, metrics are displayed in normalized scale.\n",
      "INFO - (NP.df_utils._infer_frequency) - Major frequency D corresponds to 99.954% of the data.\n",
      "INFO - (NP.df_utils._infer_frequency) - Defined frequency is equal to major frequency - D\n",
      "INFO - (NP.config.init_data_params) - Setting normalization to global as only one dataframe provided for training.\n",
      "INFO - (NP.utils.set_auto_seasonalities) - Disabling daily seasonality. Run NeuralProphet with daily_seasonality=True to override this.\n",
      "INFO - (NP.config.set_auto_batch_epoch) - Auto-set batch_size to 32\n",
      "INFO - (NP.config.set_auto_batch_epoch) - Auto-set epochs to 154\n",
      "WARNING - (NP.config.set_lr_finder_args) - Learning rate finder: The number of batches (69) is too small than the required number for the learning rate finder (234). The results might not be optimal.\n"
     ]
    },
    {
     "name": "stdout",
     "output_type": "stream",
     "text": [
      "          ds     y     yhat1     trend  season_yearly  season_weekly\n",
      "0 2016-01-01  None  4.003347  3.225690       0.814595      -0.036937\n",
      "1 2016-01-02  None  4.071515  3.225983       0.820267       0.025264\n",
      "2 2016-01-03  None  4.108833  3.226277       0.825523       0.057033\n",
      "3 2016-01-04  None  4.140841  3.226571       0.830354       0.083916\n",
      "4 2016-01-05  None  4.057213  3.226865       0.834753      -0.004405\n"
     ]
    },
    {
     "data": {
      "application/vnd.jupyter.widget-view+json": {
       "model_id": "3a9390ba3c9d4e33b034e4802f6b6e75",
       "version_major": 2,
       "version_minor": 0
      },
      "text/plain": [
       "Finding best initial lr:   0%|          | 0/234 [00:00<?, ?it/s]"
      ]
     },
     "metadata": {},
     "output_type": "display_data"
    },
    {
     "data": {
      "application/vnd.jupyter.widget-view+json": {
       "model_id": "cbbe1664d4104944ab08864a2bea9377",
       "version_major": 2,
       "version_minor": 0
      },
      "text/plain": [
       "Training: 0it [00:00, ?it/s]"
      ]
     },
     "metadata": {},
     "output_type": "display_data"
    },
    {
     "name": "stderr",
     "output_type": "stream",
     "text": [
      "INFO - (NP.df_utils._infer_frequency) - Major frequency D corresponds to 99.954% of the data.\n",
      "INFO - (NP.df_utils._infer_frequency) - Defined frequency is equal to major frequency - D\n",
      "INFO - (NP.df_utils.return_df_in_original_format) - Returning df with no ID column\n",
      "INFO - (NP.df_utils._infer_frequency) - Major frequency D corresponds to 99.727% of the data.\n",
      "INFO - (NP.df_utils._infer_frequency) - Defined frequency is equal to major frequency - D\n",
      "INFO - (NP.df_utils._infer_frequency) - Major frequency D corresponds to 99.727% of the data.\n",
      "INFO - (NP.df_utils._infer_frequency) - Defined frequency is equal to major frequency - D\n"
     ]
    },
    {
     "data": {
      "application/vnd.jupyter.widget-view+json": {
       "model_id": "92fa86219cd74be5aced44cd5d3f514c",
       "version_major": 2,
       "version_minor": 0
      },
      "text/plain": [
       "Predicting: 69it [00:00, ?it/s]"
      ]
     },
     "metadata": {},
     "output_type": "display_data"
    },
    {
     "name": "stderr",
     "output_type": "stream",
     "text": [
      "INFO - (NP.df_utils.return_df_in_original_format) - Returning df with no ID column\n",
      "WARNING - (NP.forecaster.fit) - When Global modeling with local normalization, metrics are displayed in normalized scale.\n",
      "INFO - (NP.df_utils._infer_frequency) - Major frequency D corresponds to 99.954% of the data.\n",
      "INFO - (NP.df_utils._infer_frequency) - Defined frequency is equal to major frequency - D\n",
      "INFO - (NP.config.init_data_params) - Setting normalization to global as only one dataframe provided for training.\n",
      "INFO - (NP.utils.set_auto_seasonalities) - Disabling daily seasonality. Run NeuralProphet with daily_seasonality=True to override this.\n",
      "INFO - (NP.config.set_auto_batch_epoch) - Auto-set batch_size to 32\n",
      "INFO - (NP.config.set_auto_batch_epoch) - Auto-set epochs to 154\n",
      "WARNING - (NP.config.set_lr_finder_args) - Learning rate finder: The number of batches (69) is too small than the required number for the learning rate finder (234). The results might not be optimal.\n"
     ]
    },
    {
     "name": "stdout",
     "output_type": "stream",
     "text": [
      "          ds     y     yhat1      trend  season_yearly  season_weekly\n",
      "0 2016-01-01  None  2.836424  12.405724      -9.748034       0.178735\n",
      "1 2016-01-02  None  2.741256  12.405252      -9.704711       0.040714\n",
      "2 2016-01-03  None  2.736601  12.404783      -9.659617      -0.008564\n",
      "3 2016-01-04  None  2.630864  12.404312      -9.612749      -0.160699\n",
      "4 2016-01-05  None  2.554967  12.403843      -9.564092      -0.284783\n"
     ]
    },
    {
     "data": {
      "application/vnd.jupyter.widget-view+json": {
       "model_id": "22584847f8a34332a1fd09c1b4912bc8",
       "version_major": 2,
       "version_minor": 0
      },
      "text/plain": [
       "Finding best initial lr:   0%|          | 0/234 [00:00<?, ?it/s]"
      ]
     },
     "metadata": {},
     "output_type": "display_data"
    },
    {
     "data": {
      "application/vnd.jupyter.widget-view+json": {
       "model_id": "32c5a7f4125740eb8757fac03a7a18e3",
       "version_major": 2,
       "version_minor": 0
      },
      "text/plain": [
       "Training: 0it [00:00, ?it/s]"
      ]
     },
     "metadata": {},
     "output_type": "display_data"
    },
    {
     "name": "stderr",
     "output_type": "stream",
     "text": [
      "INFO - (NP.df_utils._infer_frequency) - Major frequency D corresponds to 99.954% of the data.\n",
      "INFO - (NP.df_utils._infer_frequency) - Defined frequency is equal to major frequency - D\n",
      "INFO - (NP.df_utils.return_df_in_original_format) - Returning df with no ID column\n",
      "INFO - (NP.df_utils._infer_frequency) - Major frequency D corresponds to 99.727% of the data.\n",
      "INFO - (NP.df_utils._infer_frequency) - Defined frequency is equal to major frequency - D\n",
      "INFO - (NP.df_utils._infer_frequency) - Major frequency D corresponds to 99.727% of the data.\n",
      "INFO - (NP.df_utils._infer_frequency) - Defined frequency is equal to major frequency - D\n"
     ]
    },
    {
     "data": {
      "application/vnd.jupyter.widget-view+json": {
       "model_id": "0409df7307fc4cd495fe4107f23ecd03",
       "version_major": 2,
       "version_minor": 0
      },
      "text/plain": [
       "Predicting: 69it [00:00, ?it/s]"
      ]
     },
     "metadata": {},
     "output_type": "display_data"
    },
    {
     "name": "stderr",
     "output_type": "stream",
     "text": [
      "INFO - (NP.df_utils.return_df_in_original_format) - Returning df with no ID column\n",
      "WARNING - (NP.forecaster.fit) - When Global modeling with local normalization, metrics are displayed in normalized scale.\n",
      "INFO - (NP.df_utils._infer_frequency) - Major frequency D corresponds to 99.954% of the data.\n",
      "INFO - (NP.df_utils._infer_frequency) - Defined frequency is equal to major frequency - D\n",
      "INFO - (NP.config.init_data_params) - Setting normalization to global as only one dataframe provided for training.\n",
      "INFO - (NP.utils.set_auto_seasonalities) - Disabling daily seasonality. Run NeuralProphet with daily_seasonality=True to override this.\n"
     ]
    },
    {
     "name": "stdout",
     "output_type": "stream",
     "text": [
      "          ds     y     yhat1     trend  season_yearly  season_weekly\n",
      "0 2016-01-01  None  1.706087  1.578632       0.238553      -0.111098\n",
      "1 2016-01-02  None  1.840473  1.579743       0.241565       0.019166\n",
      "2 2016-01-03  None  1.975397  1.580853       0.244511       0.150033\n",
      "3 2016-01-04  None  1.900714  1.581964       0.247300       0.071450\n",
      "4 2016-01-05  None  1.917160  1.583074       0.249837       0.084249\n"
     ]
    },
    {
     "name": "stderr",
     "output_type": "stream",
     "text": [
      "INFO - (NP.config.set_auto_batch_epoch) - Auto-set batch_size to 32\n",
      "INFO - (NP.config.set_auto_batch_epoch) - Auto-set epochs to 154\n",
      "WARNING - (NP.config.set_lr_finder_args) - Learning rate finder: The number of batches (69) is too small than the required number for the learning rate finder (234). The results might not be optimal.\n"
     ]
    },
    {
     "data": {
      "application/vnd.jupyter.widget-view+json": {
       "model_id": "f63d208dc56e44f89e0dbe9e3e8ab8aa",
       "version_major": 2,
       "version_minor": 0
      },
      "text/plain": [
       "Finding best initial lr:   0%|          | 0/234 [00:00<?, ?it/s]"
      ]
     },
     "metadata": {},
     "output_type": "display_data"
    },
    {
     "data": {
      "application/vnd.jupyter.widget-view+json": {
       "model_id": "a711243bf9db49da8eac9d04df4da8ad",
       "version_major": 2,
       "version_minor": 0
      },
      "text/plain": [
       "Training: 0it [00:00, ?it/s]"
      ]
     },
     "metadata": {},
     "output_type": "display_data"
    },
    {
     "name": "stderr",
     "output_type": "stream",
     "text": [
      "INFO - (NP.df_utils._infer_frequency) - Major frequency D corresponds to 99.954% of the data.\n",
      "INFO - (NP.df_utils._infer_frequency) - Defined frequency is equal to major frequency - D\n",
      "INFO - (NP.df_utils.return_df_in_original_format) - Returning df with no ID column\n",
      "INFO - (NP.df_utils._infer_frequency) - Major frequency D corresponds to 99.727% of the data.\n",
      "INFO - (NP.df_utils._infer_frequency) - Defined frequency is equal to major frequency - D\n",
      "INFO - (NP.df_utils._infer_frequency) - Major frequency D corresponds to 99.727% of the data.\n",
      "INFO - (NP.df_utils._infer_frequency) - Defined frequency is equal to major frequency - D\n"
     ]
    },
    {
     "data": {
      "application/vnd.jupyter.widget-view+json": {
       "model_id": "b92c1994859c4895b773dba6a3a66eac",
       "version_major": 2,
       "version_minor": 0
      },
      "text/plain": [
       "Predicting: 69it [00:00, ?it/s]"
      ]
     },
     "metadata": {},
     "output_type": "display_data"
    },
    {
     "name": "stderr",
     "output_type": "stream",
     "text": [
      "INFO - (NP.df_utils.return_df_in_original_format) - Returning df with no ID column\n"
     ]
    },
    {
     "name": "stdout",
     "output_type": "stream",
     "text": [
      "          ds     y      yhat1      trend  season_yearly  season_weekly\n",
      "0 2016-01-01  None  95.772942  78.133270      17.603924       0.035742\n",
      "1 2016-01-02  None  96.051254  78.141510      17.693834       0.215911\n",
      "2 2016-01-03  None  95.614273  78.149750      17.775814      -0.311301\n",
      "3 2016-01-04  None  96.217834  78.158005      17.849743       0.210089\n",
      "4 2016-01-05  None  96.474403  78.166245      17.915564       0.392597\n"
     ]
    }
   ],
   "source": [
    "for col in cols:\n",
    "    test[f'{col}_'] = train_prophet(col)"
   ]
  },
  {
   "cell_type": "code",
   "execution_count": 34,
   "id": "77fada68",
   "metadata": {},
   "outputs": [],
   "source": [
    "# Avg\n",
    "avg = test[[\n",
    "    'de-date', 'tavg_', 'tmin_', 'tmax_', 'wind_', 'globrad_', 'precip_', 'relhumid_'\n",
    "]]\n",
    "avg = avg.rename(columns={\n",
    "    \"tavg_\":\"tavg\", \"tmin_\":\"tmin\", \"tmax_\":\"tmax\", \"wind_\":\"wind\", \"globrad_\":\"globrad\",\n",
    "    \"precip_\":\"precip\", \"relhumid_\":\"relhumid\"\n",
    "})\n",
    "avg.to_csv(\n",
    "    '../monica/neural_prophet_2016.csv', index=False\n",
    ")"
   ]
  }
 ],
 "metadata": {
  "kernelspec": {
   "display_name": "Python 3 (ipykernel)",
   "language": "python",
   "name": "python3"
  },
  "language_info": {
   "codemirror_mode": {
    "name": "ipython",
    "version": 3
   },
   "file_extension": ".py",
   "mimetype": "text/x-python",
   "name": "python",
   "nbconvert_exporter": "python",
   "pygments_lexer": "ipython3",
   "version": "3.7.3"
  }
 },
 "nbformat": 4,
 "nbformat_minor": 5
}
