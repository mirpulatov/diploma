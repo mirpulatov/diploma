{
  "nbformat": 4,
  "nbformat_minor": 0,
  "metadata": {
    "colab": {
      "provenance": []
    },
    "kernelspec": {
      "name": "python3",
      "display_name": "Python 3"
    },
    "language_info": {
      "name": "python"
    }
  },
  "cells": [
    {
      "cell_type": "code",
      "execution_count": 1,
      "metadata": {
        "id": "-nCGUFpOx9gk"
      },
      "outputs": [],
      "source": [
        "# ! git clone https://github.com/vonum/multi-prophet.git"
      ]
    },
    {
      "cell_type": "code",
      "source": [
        "# !pip install pystan==2.19.1.1\n",
        "# !pip install fbprophet\n",
        "import sys\n",
        "sys.path.append('multi-prophet')\n",
        "from multi_prophet import MultiProphet"
      ],
      "metadata": {
        "id": "oRQTGqLZx_uE"
      },
      "execution_count": 2,
      "outputs": []
    },
    {
      "cell_type": "code",
      "source": [
        "import os\n",
        "import logging\n",
        "import numpy as np\n",
        "import pandas as pd\n",
        "import matplotlib.pyplot as plt"
      ],
      "metadata": {
        "id": "IJSzAew12a4Y"
      },
      "execution_count": 3,
      "outputs": []
    },
    {
      "cell_type": "code",
      "source": [
        "from prophet import Prophet"
      ],
      "metadata": {
        "id": "eZnv1NVZ2fJy"
      },
      "execution_count": 4,
      "outputs": []
    },
    {
      "cell_type": "code",
      "source": [
        "df = pd.read_csv('monica_weather_2011-2016.csv')\n",
        "df[\"date\"] = pd.to_datetime(df[\"de-date\"], format='%d.%m.%Y')"
      ],
      "metadata": {
        "id": "HKHzftoW2G6V"
      },
      "execution_count": 5,
      "outputs": []
    },
    {
      "cell_type": "code",
      "source": [
        "df = df.rename(columns={\"date\": \"ds\"})"
      ],
      "metadata": {
        "id": "CkIIazfl2xRA"
      },
      "execution_count": 6,
      "outputs": []
    },
    {
      "cell_type": "code",
      "source": [
        "m = MultiProphet(columns=[\"tavg\", \"tmin\", \"tmax\", \"wind\", \"globrad\", \"precip\", \"relhumid\"])\n",
        "m.fit(df)"
      ],
      "metadata": {
        "colab": {
          "base_uri": "https://localhost:8080/"
        },
        "id": "0adGwLe84nQC",
        "outputId": "0c1e7950-029c-42e4-e9b5-ecfb19c93985"
      },
      "execution_count": 7,
      "outputs": [
        {
          "output_type": "stream",
          "name": "stderr",
          "text": [
            "INFO:prophet:Disabling daily seasonality. Run prophet with daily_seasonality=True to override this.\n",
            "INFO:prophet:Disabling daily seasonality. Run prophet with daily_seasonality=True to override this.\n",
            "INFO:prophet:Disabling daily seasonality. Run prophet with daily_seasonality=True to override this.\n",
            "INFO:prophet:Disabling daily seasonality. Run prophet with daily_seasonality=True to override this.\n",
            "INFO:prophet:Disabling daily seasonality. Run prophet with daily_seasonality=True to override this.\n",
            "INFO:prophet:Disabling daily seasonality. Run prophet with daily_seasonality=True to override this.\n",
            "INFO:prophet:Disabling daily seasonality. Run prophet with daily_seasonality=True to override this.\n"
          ]
        }
      ]
    },
    {
      "cell_type": "code",
      "source": [
        "future = m.make_future_dataframe(periods=365, include_history=False)\n",
        "forecast = m.predict(future)"
      ],
      "metadata": {
        "id": "ds-peYrn5uNn"
      },
      "execution_count": 8,
      "outputs": []
    },
    {
      "cell_type": "code",
      "source": [
        "test = pd.read_csv('reanalysis_2017.csv')"
      ],
      "metadata": {
        "id": "cs2vf66T5_8l"
      },
      "execution_count": 9,
      "outputs": []
    },
    {
      "cell_type": "code",
      "source": [
        "test['tavg'] = forecast['tavg'].yhat.to_numpy()\n",
        "test['tmin'] = forecast['tmin'].yhat.to_numpy()\n",
        "test['tmax'] = forecast['tmax'].yhat.to_numpy()\n",
        "test['wind'] = forecast['wind'].yhat.to_numpy()\n",
        "test['globrad'] = forecast['globrad'].yhat.to_numpy()\n",
        "test['precip'] = forecast['precip'].yhat.to_numpy()\n",
        "test['relhumid'] = forecast['relhumid'].yhat.to_numpy()"
      ],
      "metadata": {
        "id": "RHiaVRsR6H57"
      },
      "execution_count": 10,
      "outputs": []
    },
    {
      "cell_type": "code",
      "source": [
        "test.to_csv('multi-prophet_2017.csv', index=False)"
      ],
      "metadata": {
        "id": "v6_9XqLH6yim"
      },
      "execution_count": 12,
      "outputs": []
    }
  ]
}